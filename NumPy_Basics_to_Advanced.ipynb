{
  "nbformat": 4,
  "nbformat_minor": 0,
  "metadata": {
    "colab": {
      "provenance": [],
      "authorship_tag": "ABX9TyPOWm5kdwxqxF34K9buxTXP",
      "include_colab_link": true
    },
    "kernelspec": {
      "name": "python3",
      "display_name": "Python 3"
    },
    "language_info": {
      "name": "python"
    }
  },
  "cells": [
    {
      "cell_type": "markdown",
      "metadata": {
        "id": "view-in-github",
        "colab_type": "text"
      },
      "source": [
        "<a href=\"https://colab.research.google.com/github/Malleshcr7/AI-ML-Projects/blob/main/NumPy_Basics_to_Advanced.ipynb\" target=\"_parent\"><img src=\"https://colab.research.google.com/assets/colab-badge.svg\" alt=\"Open In Colab\"/></a>"
      ]
    },
    {
      "cell_type": "code",
      "execution_count": null,
      "metadata": {
        "id": "WzZFBj1Wd7Ps"
      },
      "outputs": [],
      "source": []
    },
    {
      "cell_type": "code",
      "source": [
        "!pip install numpy"
      ],
      "metadata": {
        "colab": {
          "base_uri": "https://localhost:8080/"
        },
        "id": "YtRh4SRZd9Ht",
        "outputId": "3f92d171-39ad-47f2-abad-1c4005db6cb9"
      },
      "execution_count": null,
      "outputs": [
        {
          "output_type": "stream",
          "name": "stdout",
          "text": [
            "Requirement already satisfied: numpy in /usr/local/lib/python3.12/dist-packages (2.0.2)\n"
          ]
        }
      ]
    },
    {
      "cell_type": "code",
      "source": [
        "                                                 #Creating an Array"
      ],
      "metadata": {
        "id": "V1qAVd-_o3-c"
      },
      "execution_count": null,
      "outputs": []
    },
    {
      "cell_type": "code",
      "source": [
        "import numpy as np\n",
        "\n",
        "py_list = [1, 2, 3, 4 ,5]\n",
        "np_array = np.array(py_list)\n",
        "\n",
        "print(f\"List of numbers: {py_list}\")\n",
        "print(f\"Numpy array: {np_array}\")\n",
        "print(f\"Type of list: {type(py_list)}\")\n",
        "print(f\"Type of numpy array: {type(np_array)}\")"
      ],
      "metadata": {
        "colab": {
          "base_uri": "https://localhost:8080/"
        },
        "id": "54mlyRL3eKjz",
        "outputId": "1cdecdd7-76cd-4a93-aa95-4985b4cc177d"
      },
      "execution_count": null,
      "outputs": [
        {
          "output_type": "stream",
          "name": "stdout",
          "text": [
            "List of numbers: [1, 2, 3, 4, 5]\n",
            "Numpy array: [1 2 3 4 5]\n",
            "Type of list: <class 'list'>\n",
            "Type of numpy array: <class 'numpy.ndarray'>\n"
          ]
        }
      ]
    },
    {
      "cell_type": "code",
      "source": [
        "py_twodarray = [[1, 2, 3], [4, 5, 6]]\n",
        "nu_array = np.array(py_twodarray)\n",
        "print(f\"2D array: {nu_array}\")"
      ],
      "metadata": {
        "colab": {
          "base_uri": "https://localhost:8080/"
        },
        "id": "V8JorDduffKi",
        "outputId": "6cac9312-a934-4d75-f3c9-39f6aea13a9b"
      },
      "execution_count": null,
      "outputs": [
        {
          "output_type": "stream",
          "name": "stdout",
          "text": [
            "2D array: [[1 2 3]\n",
            " [4 5 6]]\n"
          ]
        }
      ]
    },
    {
      "cell_type": "code",
      "source": [
        "                                               #Anatomy of a NumPy Array"
      ],
      "metadata": {
        "id": "5q-QJ55not5L"
      },
      "execution_count": null,
      "outputs": []
    },
    {
      "cell_type": "code",
      "source": [
        "matrix = np.array([[1, 2, 3], [4, 5, 6]])\n",
        "\n",
        "print(f\"Dimensions of arrasy{matrix.ndim}\")\n",
        "print(f\"Size of array{matrix.size}\")\n",
        "print(f\"Shape of array{matrix.shape}\")\n",
        "print(f\"Type of array{matrix.dtype}\")\n",
        "print(\"\\nA 2D NumPy array (matrix):\\n\", matrix)"
      ],
      "metadata": {
        "colab": {
          "base_uri": "https://localhost:8080/"
        },
        "id": "Qz8VEe1Ag58J",
        "outputId": "df5f96e5-7b76-4f75-c4a3-ff57b26d4c9a"
      },
      "execution_count": 5,
      "outputs": [
        {
          "output_type": "stream",
          "name": "stdout",
          "text": [
            "Dimensions of arrasy2\n",
            "Size of array6\n",
            "Shape of array(2, 3)\n",
            "Type of arrayint64\n",
            "\n",
            "A 2D NumPy array (matrix):\n",
            " [[1 2 3]\n",
            " [4 5 6]]\n"
          ]
        }
      ]
    },
    {
      "cell_type": "code",
      "source": [
        "                                                  #Creating Arrays from Scratch"
      ],
      "metadata": {
        "id": "QtH1YY5noQdZ"
      },
      "execution_count": null,
      "outputs": []
    },
    {
      "cell_type": "code",
      "source": [],
      "metadata": {
        "id": "VQK9dQE8or-Q"
      },
      "execution_count": null,
      "outputs": []
    }
  ]
}