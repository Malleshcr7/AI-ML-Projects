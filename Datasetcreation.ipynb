{
  "nbformat": 4,
  "nbformat_minor": 0,
  "metadata": {
    "colab": {
      "provenance": [],
      "authorship_tag": "ABX9TyPjakqnyhPlaBXyBlYRDsPz",
      "include_colab_link": true
    },
    "kernelspec": {
      "name": "python3",
      "display_name": "Python 3"
    },
    "language_info": {
      "name": "python"
    }
  },
  "cells": [
    {
      "cell_type": "markdown",
      "metadata": {
        "id": "view-in-github",
        "colab_type": "text"
      },
      "source": [
        "<a href=\"https://colab.research.google.com/github/Malleshcr7/AI-ML-Projects/blob/main/Datasetcreation.ipynb\" target=\"_parent\"><img src=\"https://colab.research.google.com/assets/colab-badge.svg\" alt=\"Open In Colab\"/></a>"
      ]
    },
    {
      "cell_type": "markdown",
      "source": [
        "##Comprehensive Data Cleaning Project: All Types with Massive Dataset\n",
        "Project Overview\n",
        "This notebook demonstrates all major data cleaning types using a large synthetic messy dataset (1000+ rows). Every cleaning technique is implemented step-by-step with text explanations and executable code cells for Google Colab."
      ],
      "metadata": {
        "id": "bxEyJyJ_R4kR"
      }
    },
    {
      "cell_type": "markdown",
      "source": [
        "##Data cleaning is critical for accurate analysis and machine learning. This project covers:\n",
        "\n",
        "Missing data handling (deletion, imputation)\n",
        "\n",
        "Structural error correction (typos, types, formatting)\n",
        "\n",
        "Outlier management (detection, capping, transformation)\n",
        "\n",
        "Standardization and normalization\n",
        "\n",
        "Inaccuracy fixes (validation, logical checks)\n",
        "\n",
        "Duplicate removal (exact and fuzzy)\n",
        "\n",
        "Data transformation and enrichment (encoding, binning, feature engineering)"
      ],
      "metadata": {
        "id": "BAAj1DBNSDIm"
      }
    },
    {
      "cell_type": "code",
      "source": [
        "import pandas as pd\n",
        "import numpy as np\n",
        "import matplotlib.pyplot as plt\n",
        "import seaborn as sns\n",
        "from datetime import datetime, timedelta\n",
        "import re\n",
        "from scipy import stats\n",
        "from sklearn.preprocessing import StandardScaler, MinMaxScaler, LabelEncoder\n",
        "import warnings\n",
        "warnings.filterwarnings('ignore')\n"
      ],
      "metadata": {
        "id": "-jSWkNYPSJyh"
      },
      "execution_count": 14,
      "outputs": []
    },
    {
      "cell_type": "markdown",
      "source": [
        "##Creating a synthetic dataset with 1000 records containing all types of data quality issues"
      ],
      "metadata": {
        "id": "fBgnEEw6SLCT"
      }
    },
    {
      "cell_type": "code",
      "source": [
        "np.random.seed(42)\n",
        "n_rows = 1000\n",
        "\n",
        "# Generate base data with intentional messiness\n",
        "data = {\n",
        "    'CustomerID': list(range(1, n_rows + 1)),\n",
        "    'Name': [],\n",
        "    'Email': [],\n",
        "    'Age': [],\n",
        "    'Income': [],\n",
        "    'City': [],\n",
        "    'Country': [],\n",
        "    'SignupDate': [],\n",
        "    'LastPurchase': [],\n",
        "    'ProductCategory': [],\n",
        "    'SpendAmount': [],\n",
        "    'AccountStatus': [],\n",
        "    'PhoneNumber': []\n",
        "}\n",
        "\n",
        "# Names with inconsistent formatting\n",
        "first_names = ['John', 'jane', 'ALICE', 'Bob ', ' Charlie', 'eve', 'David', 'Emma']\n",
        "last_names = ['Smith', 'DOE', 'johnson', ' Brown', 'Davis ', 'WILSON', 'moore']\n",
        "\n",
        "for i in range(n_rows):\n",
        "    # Names with spacing and case issues\n",
        "    data['Name'].append(f\"{np.random.choice(first_names)} {np.random.choice(last_names)}\")\n",
        "\n",
        "    # Emails with inconsistencies\n",
        "    if i % 10 == 0:\n",
        "        data['Email'].append(None)  # Missing emails\n",
        "    elif i % 15 == 0:\n",
        "        data['Email'].append('invalid_email')  # Invalid format\n",
        "    else:\n",
        "        data['Email'].append(f\"user{i}@{'GMAIL' if i % 2 else 'yahoo'}.com\")\n",
        "\n",
        "    # Age with outliers and missing values\n",
        "    if i % 20 == 0:\n",
        "        data['Age'].append(None)\n",
        "    elif i % 30 == 0:\n",
        "        data['Age'].append(np.random.choice([150, 200, -5, 0]))  # Outliers\n",
        "    else:\n",
        "        data['Age'].append(np.random.randint(18, 70))\n",
        "\n",
        "    # Income with outliers and wrong types\n",
        "    if i % 25 == 0:\n",
        "        data['Income'].append(None)\n",
        "    elif i % 35 == 0:\n",
        "        data['Income'].append('fifty thousand')  # Text instead of number\n",
        "    elif i % 40 == 0:\n",
        "        data['Income'].append(-50000)  # Negative value\n",
        "    else:\n",
        "        data['Income'].append(np.random.randint(20000, 200000))\n",
        "\n",
        "    # City with typos and inconsistent naming\n",
        "    cities = ['New York', 'NY', 'new york', 'Los Angeles', 'LA', 'la',\n",
        "              'Chicago', 'CHICAGO', 'Houston', 'houston']\n",
        "    data['City'].append(np.random.choice(cities) if i % 15 != 0 else None)\n",
        "\n",
        "    # Country with inconsistencies\n",
        "    countries = ['USA', 'usa', 'United States', 'US', 'India', 'INDIA',\n",
        "                 'UK', 'United Kingdom', 'Canada', 'CANADA']\n",
        "    data['Country'].append(np.random.choice(countries))\n",
        "\n",
        "    # Dates with format issues\n",
        "    if i % 18 == 0:\n",
        "        data['SignupDate'].append('not a date')\n",
        "    elif i % 22 == 0:\n",
        "        data['SignupDate'].append(None)\n",
        "    else:\n",
        "        date = datetime(2020, 1, 1) + timedelta(days=np.random.randint(0, 1500))\n",
        "        formats = ['%Y-%m-%d', '%m/%d/%Y', '%d-%m-%Y']\n",
        "        data['SignupDate'].append(date.strftime(np.random.choice(formats)))\n",
        "\n",
        "    # Last purchase date (some after signup - logical error)\n",
        "    if i % 20 == 0:\n",
        "        data['LastPurchase'].append(None)\n",
        "    else:\n",
        "        date = datetime(2019, 1, 1) + timedelta(days=np.random.randint(0, 2000))\n",
        "        data['LastPurchase'].append(date.strftime('%Y-%m-%d'))\n",
        "\n",
        "    # Product categories with typos\n",
        "    categories = ['Electronics', 'electronics', 'ELECTRONICS', 'Clothing',\n",
        "                  'clothing', 'Books', 'books', 'Home & Garden', 'home']\n",
        "    data['ProductCategory'].append(np.random.choice(categories) if i % 12 != 0 else None)\n",
        "\n",
        "    # Spend amount with outliers\n",
        "    if i % 28 == 0:\n",
        "        data['SpendAmount'].append(None)\n",
        "    elif i % 45 == 0:\n",
        "        data['SpendAmount'].append(np.random.choice([1000000, -500]))\n",
        "    else:\n",
        "        data['SpendAmount'].append(round(np.random.uniform(10, 5000), 2))\n",
        "\n",
        "    # Account status inconsistent\n",
        "    statuses = ['Active', 'active', 'ACTIVE', 'Inactive', 'inactive',\n",
        "                'Suspended', 'suspended', 'Y', 'N', 'Yes', 'No']\n",
        "    data['AccountStatus'].append(np.random.choice(statuses) if i % 17 != 0 else None)\n",
        "\n",
        "    # Phone numbers with format issues\n",
        "    if i % 16 == 0:\n",
        "        data['PhoneNumber'].append(None)\n",
        "    elif i % 23 == 0:\n",
        "        data['PhoneNumber'].append('123')  # Invalid\n",
        "    else:\n",
        "        formats = [f\"+1-{np.random.randint(200,999)}-{np.random.randint(100,999)}-{np.random.randint(1000,9999)}\",\n",
        "                   f\"{np.random.randint(2000000000,9999999999)}\",\n",
        "                   f\"({np.random.randint(200,999)}) {np.random.randint(100,999)}-{np.random.randint(1000,9999)}\"]\n",
        "        data['PhoneNumber'].append(np.random.choice(formats))\n",
        "\n",
        "# Add duplicates\n",
        "for i in range(50):\n",
        "    idx = np.random.randint(0, n_rows)\n",
        "    for key in data.keys():\n",
        "        if key != 'CustomerID':\n",
        "            data[key].append(data[key][idx])\n",
        "        else:\n",
        "            data[key].append(data[key][idx])  # Duplicate ID\n",
        "\n",
        "df_raw = pd.DataFrame(data)\n",
        "print(f\"Dataset shape: {df_raw.shape}\")\n",
        "df_raw.head(10)\n"
      ],
      "metadata": {
        "colab": {
          "base_uri": "https://localhost:8080/",
          "height": 380
        },
        "id": "uMZYzifKSKsU",
        "outputId": "231211d9-39d1-43a3-a3af-45ace322d945"
      },
      "execution_count": 15,
      "outputs": [
        {
          "output_type": "stream",
          "name": "stdout",
          "text": [
            "Dataset shape: (1050, 13)\n"
          ]
        },
        {
          "output_type": "execute_result",
          "data": {
            "text/plain": [
              "   CustomerID             Name            Email   Age  Income      City  \\\n",
              "0           1     David  Brown             None   NaN    None      None   \n",
              "1           2   Charlie Davis   user1@GMAIL.com  56.0  157337  new york   \n",
              "2           3      John  Brown  user2@yahoo.com  39.0  150608   houston   \n",
              "3           4      jane  Brown  user3@GMAIL.com  45.0  140174   Chicago   \n",
              "4           5      jane WILSON  user4@yahoo.com  53.0  183678   CHICAGO   \n",
              "5           6    Charlie Smith  user5@GMAIL.com  42.0   60774   Houston   \n",
              "6           7      Emma  Brown  user6@yahoo.com  51.0   72256   Chicago   \n",
              "7           8     David WILSON  user7@GMAIL.com  56.0  141626   Houston   \n",
              "8           9       Emma moore  user8@yahoo.com  68.0  137845        NY   \n",
              "9          10     John johnson  user9@GMAIL.com  69.0  147948   Houston   \n",
              "\n",
              "          Country  SignupDate LastPurchase ProductCategory  SpendAmount  \\\n",
              "0  United Kingdom  not a date         None            None          NaN   \n",
              "1              UK  26-11-2020   2019-03-29        clothing      3009.56   \n",
              "2   United States  2023-06-21   2022-02-28        clothing      3041.65   \n",
              "3  United Kingdom  02/04/2020   2022-01-09        Clothing       919.36   \n",
              "4              UK  2023-06-29   2023-09-22   Home & Garden      4224.22   \n",
              "5  United Kingdom  26-02-2023   2022-03-08     ELECTRONICS      3537.22   \n",
              "6              UK  15-03-2022   2020-11-14   Home & Garden      1380.86   \n",
              "7          CANADA  2022-06-10   2023-09-11           books      2382.10   \n",
              "8          CANADA  07/10/2021   2024-05-30        clothing      4358.59   \n",
              "9   United States  10/14/2023   2023-01-19            home      2429.30   \n",
              "\n",
              "  AccountStatus      PhoneNumber  \n",
              "0          None             None  \n",
              "1             Y  +1-330-761-1769  \n",
              "2      inactive  +1-366-373-9792  \n",
              "3      Inactive       6429456860  \n",
              "4        active   (692) 140-6276  \n",
              "5        ACTIVE  +1-618-388-6892  \n",
              "6        ACTIVE   (968) 104-8385  \n",
              "7      Inactive  +1-933-584-8574  \n",
              "8      Inactive  +1-997-430-2663  \n",
              "9        Active  +1-433-783-1663  "
            ],
            "text/html": [
              "\n",
              "  <div id=\"df-5bef4469-1804-4f9e-aa5c-909647ceb770\" class=\"colab-df-container\">\n",
              "    <div>\n",
              "<style scoped>\n",
              "    .dataframe tbody tr th:only-of-type {\n",
              "        vertical-align: middle;\n",
              "    }\n",
              "\n",
              "    .dataframe tbody tr th {\n",
              "        vertical-align: top;\n",
              "    }\n",
              "\n",
              "    .dataframe thead th {\n",
              "        text-align: right;\n",
              "    }\n",
              "</style>\n",
              "<table border=\"1\" class=\"dataframe\">\n",
              "  <thead>\n",
              "    <tr style=\"text-align: right;\">\n",
              "      <th></th>\n",
              "      <th>CustomerID</th>\n",
              "      <th>Name</th>\n",
              "      <th>Email</th>\n",
              "      <th>Age</th>\n",
              "      <th>Income</th>\n",
              "      <th>City</th>\n",
              "      <th>Country</th>\n",
              "      <th>SignupDate</th>\n",
              "      <th>LastPurchase</th>\n",
              "      <th>ProductCategory</th>\n",
              "      <th>SpendAmount</th>\n",
              "      <th>AccountStatus</th>\n",
              "      <th>PhoneNumber</th>\n",
              "    </tr>\n",
              "  </thead>\n",
              "  <tbody>\n",
              "    <tr>\n",
              "      <th>0</th>\n",
              "      <td>1</td>\n",
              "      <td>David  Brown</td>\n",
              "      <td>None</td>\n",
              "      <td>NaN</td>\n",
              "      <td>None</td>\n",
              "      <td>None</td>\n",
              "      <td>United Kingdom</td>\n",
              "      <td>not a date</td>\n",
              "      <td>None</td>\n",
              "      <td>None</td>\n",
              "      <td>NaN</td>\n",
              "      <td>None</td>\n",
              "      <td>None</td>\n",
              "    </tr>\n",
              "    <tr>\n",
              "      <th>1</th>\n",
              "      <td>2</td>\n",
              "      <td>Charlie Davis</td>\n",
              "      <td>user1@GMAIL.com</td>\n",
              "      <td>56.0</td>\n",
              "      <td>157337</td>\n",
              "      <td>new york</td>\n",
              "      <td>UK</td>\n",
              "      <td>26-11-2020</td>\n",
              "      <td>2019-03-29</td>\n",
              "      <td>clothing</td>\n",
              "      <td>3009.56</td>\n",
              "      <td>Y</td>\n",
              "      <td>+1-330-761-1769</td>\n",
              "    </tr>\n",
              "    <tr>\n",
              "      <th>2</th>\n",
              "      <td>3</td>\n",
              "      <td>John  Brown</td>\n",
              "      <td>user2@yahoo.com</td>\n",
              "      <td>39.0</td>\n",
              "      <td>150608</td>\n",
              "      <td>houston</td>\n",
              "      <td>United States</td>\n",
              "      <td>2023-06-21</td>\n",
              "      <td>2022-02-28</td>\n",
              "      <td>clothing</td>\n",
              "      <td>3041.65</td>\n",
              "      <td>inactive</td>\n",
              "      <td>+1-366-373-9792</td>\n",
              "    </tr>\n",
              "    <tr>\n",
              "      <th>3</th>\n",
              "      <td>4</td>\n",
              "      <td>jane  Brown</td>\n",
              "      <td>user3@GMAIL.com</td>\n",
              "      <td>45.0</td>\n",
              "      <td>140174</td>\n",
              "      <td>Chicago</td>\n",
              "      <td>United Kingdom</td>\n",
              "      <td>02/04/2020</td>\n",
              "      <td>2022-01-09</td>\n",
              "      <td>Clothing</td>\n",
              "      <td>919.36</td>\n",
              "      <td>Inactive</td>\n",
              "      <td>6429456860</td>\n",
              "    </tr>\n",
              "    <tr>\n",
              "      <th>4</th>\n",
              "      <td>5</td>\n",
              "      <td>jane WILSON</td>\n",
              "      <td>user4@yahoo.com</td>\n",
              "      <td>53.0</td>\n",
              "      <td>183678</td>\n",
              "      <td>CHICAGO</td>\n",
              "      <td>UK</td>\n",
              "      <td>2023-06-29</td>\n",
              "      <td>2023-09-22</td>\n",
              "      <td>Home &amp; Garden</td>\n",
              "      <td>4224.22</td>\n",
              "      <td>active</td>\n",
              "      <td>(692) 140-6276</td>\n",
              "    </tr>\n",
              "    <tr>\n",
              "      <th>5</th>\n",
              "      <td>6</td>\n",
              "      <td>Charlie Smith</td>\n",
              "      <td>user5@GMAIL.com</td>\n",
              "      <td>42.0</td>\n",
              "      <td>60774</td>\n",
              "      <td>Houston</td>\n",
              "      <td>United Kingdom</td>\n",
              "      <td>26-02-2023</td>\n",
              "      <td>2022-03-08</td>\n",
              "      <td>ELECTRONICS</td>\n",
              "      <td>3537.22</td>\n",
              "      <td>ACTIVE</td>\n",
              "      <td>+1-618-388-6892</td>\n",
              "    </tr>\n",
              "    <tr>\n",
              "      <th>6</th>\n",
              "      <td>7</td>\n",
              "      <td>Emma  Brown</td>\n",
              "      <td>user6@yahoo.com</td>\n",
              "      <td>51.0</td>\n",
              "      <td>72256</td>\n",
              "      <td>Chicago</td>\n",
              "      <td>UK</td>\n",
              "      <td>15-03-2022</td>\n",
              "      <td>2020-11-14</td>\n",
              "      <td>Home &amp; Garden</td>\n",
              "      <td>1380.86</td>\n",
              "      <td>ACTIVE</td>\n",
              "      <td>(968) 104-8385</td>\n",
              "    </tr>\n",
              "    <tr>\n",
              "      <th>7</th>\n",
              "      <td>8</td>\n",
              "      <td>David WILSON</td>\n",
              "      <td>user7@GMAIL.com</td>\n",
              "      <td>56.0</td>\n",
              "      <td>141626</td>\n",
              "      <td>Houston</td>\n",
              "      <td>CANADA</td>\n",
              "      <td>2022-06-10</td>\n",
              "      <td>2023-09-11</td>\n",
              "      <td>books</td>\n",
              "      <td>2382.10</td>\n",
              "      <td>Inactive</td>\n",
              "      <td>+1-933-584-8574</td>\n",
              "    </tr>\n",
              "    <tr>\n",
              "      <th>8</th>\n",
              "      <td>9</td>\n",
              "      <td>Emma moore</td>\n",
              "      <td>user8@yahoo.com</td>\n",
              "      <td>68.0</td>\n",
              "      <td>137845</td>\n",
              "      <td>NY</td>\n",
              "      <td>CANADA</td>\n",
              "      <td>07/10/2021</td>\n",
              "      <td>2024-05-30</td>\n",
              "      <td>clothing</td>\n",
              "      <td>4358.59</td>\n",
              "      <td>Inactive</td>\n",
              "      <td>+1-997-430-2663</td>\n",
              "    </tr>\n",
              "    <tr>\n",
              "      <th>9</th>\n",
              "      <td>10</td>\n",
              "      <td>John johnson</td>\n",
              "      <td>user9@GMAIL.com</td>\n",
              "      <td>69.0</td>\n",
              "      <td>147948</td>\n",
              "      <td>Houston</td>\n",
              "      <td>United States</td>\n",
              "      <td>10/14/2023</td>\n",
              "      <td>2023-01-19</td>\n",
              "      <td>home</td>\n",
              "      <td>2429.30</td>\n",
              "      <td>Active</td>\n",
              "      <td>+1-433-783-1663</td>\n",
              "    </tr>\n",
              "  </tbody>\n",
              "</table>\n",
              "</div>\n",
              "    <div class=\"colab-df-buttons\">\n",
              "\n",
              "  <div class=\"colab-df-container\">\n",
              "    <button class=\"colab-df-convert\" onclick=\"convertToInteractive('df-5bef4469-1804-4f9e-aa5c-909647ceb770')\"\n",
              "            title=\"Convert this dataframe to an interactive table.\"\n",
              "            style=\"display:none;\">\n",
              "\n",
              "  <svg xmlns=\"http://www.w3.org/2000/svg\" height=\"24px\" viewBox=\"0 -960 960 960\">\n",
              "    <path d=\"M120-120v-720h720v720H120Zm60-500h600v-160H180v160Zm220 220h160v-160H400v160Zm0 220h160v-160H400v160ZM180-400h160v-160H180v160Zm440 0h160v-160H620v160ZM180-180h160v-160H180v160Zm440 0h160v-160H620v160Z\"/>\n",
              "  </svg>\n",
              "    </button>\n",
              "\n",
              "  <style>\n",
              "    .colab-df-container {\n",
              "      display:flex;\n",
              "      gap: 12px;\n",
              "    }\n",
              "\n",
              "    .colab-df-convert {\n",
              "      background-color: #E8F0FE;\n",
              "      border: none;\n",
              "      border-radius: 50%;\n",
              "      cursor: pointer;\n",
              "      display: none;\n",
              "      fill: #1967D2;\n",
              "      height: 32px;\n",
              "      padding: 0 0 0 0;\n",
              "      width: 32px;\n",
              "    }\n",
              "\n",
              "    .colab-df-convert:hover {\n",
              "      background-color: #E2EBFA;\n",
              "      box-shadow: 0px 1px 2px rgba(60, 64, 67, 0.3), 0px 1px 3px 1px rgba(60, 64, 67, 0.15);\n",
              "      fill: #174EA6;\n",
              "    }\n",
              "\n",
              "    .colab-df-buttons div {\n",
              "      margin-bottom: 4px;\n",
              "    }\n",
              "\n",
              "    [theme=dark] .colab-df-convert {\n",
              "      background-color: #3B4455;\n",
              "      fill: #D2E3FC;\n",
              "    }\n",
              "\n",
              "    [theme=dark] .colab-df-convert:hover {\n",
              "      background-color: #434B5C;\n",
              "      box-shadow: 0px 1px 3px 1px rgba(0, 0, 0, 0.15);\n",
              "      filter: drop-shadow(0px 1px 2px rgba(0, 0, 0, 0.3));\n",
              "      fill: #FFFFFF;\n",
              "    }\n",
              "  </style>\n",
              "\n",
              "    <script>\n",
              "      const buttonEl =\n",
              "        document.querySelector('#df-5bef4469-1804-4f9e-aa5c-909647ceb770 button.colab-df-convert');\n",
              "      buttonEl.style.display =\n",
              "        google.colab.kernel.accessAllowed ? 'block' : 'none';\n",
              "\n",
              "      async function convertToInteractive(key) {\n",
              "        const element = document.querySelector('#df-5bef4469-1804-4f9e-aa5c-909647ceb770');\n",
              "        const dataTable =\n",
              "          await google.colab.kernel.invokeFunction('convertToInteractive',\n",
              "                                                    [key], {});\n",
              "        if (!dataTable) return;\n",
              "\n",
              "        const docLinkHtml = 'Like what you see? Visit the ' +\n",
              "          '<a target=\"_blank\" href=https://colab.research.google.com/notebooks/data_table.ipynb>data table notebook</a>'\n",
              "          + ' to learn more about interactive tables.';\n",
              "        element.innerHTML = '';\n",
              "        dataTable['output_type'] = 'display_data';\n",
              "        await google.colab.output.renderOutput(dataTable, element);\n",
              "        const docLink = document.createElement('div');\n",
              "        docLink.innerHTML = docLinkHtml;\n",
              "        element.appendChild(docLink);\n",
              "      }\n",
              "    </script>\n",
              "  </div>\n",
              "\n",
              "\n",
              "    <div id=\"df-d6ae78a6-17b3-43e8-8611-aec84e735ca5\">\n",
              "      <button class=\"colab-df-quickchart\" onclick=\"quickchart('df-d6ae78a6-17b3-43e8-8611-aec84e735ca5')\"\n",
              "                title=\"Suggest charts\"\n",
              "                style=\"display:none;\">\n",
              "\n",
              "<svg xmlns=\"http://www.w3.org/2000/svg\" height=\"24px\"viewBox=\"0 0 24 24\"\n",
              "     width=\"24px\">\n",
              "    <g>\n",
              "        <path d=\"M19 3H5c-1.1 0-2 .9-2 2v14c0 1.1.9 2 2 2h14c1.1 0 2-.9 2-2V5c0-1.1-.9-2-2-2zM9 17H7v-7h2v7zm4 0h-2V7h2v10zm4 0h-2v-4h2v4z\"/>\n",
              "    </g>\n",
              "</svg>\n",
              "      </button>\n",
              "\n",
              "<style>\n",
              "  .colab-df-quickchart {\n",
              "      --bg-color: #E8F0FE;\n",
              "      --fill-color: #1967D2;\n",
              "      --hover-bg-color: #E2EBFA;\n",
              "      --hover-fill-color: #174EA6;\n",
              "      --disabled-fill-color: #AAA;\n",
              "      --disabled-bg-color: #DDD;\n",
              "  }\n",
              "\n",
              "  [theme=dark] .colab-df-quickchart {\n",
              "      --bg-color: #3B4455;\n",
              "      --fill-color: #D2E3FC;\n",
              "      --hover-bg-color: #434B5C;\n",
              "      --hover-fill-color: #FFFFFF;\n",
              "      --disabled-bg-color: #3B4455;\n",
              "      --disabled-fill-color: #666;\n",
              "  }\n",
              "\n",
              "  .colab-df-quickchart {\n",
              "    background-color: var(--bg-color);\n",
              "    border: none;\n",
              "    border-radius: 50%;\n",
              "    cursor: pointer;\n",
              "    display: none;\n",
              "    fill: var(--fill-color);\n",
              "    height: 32px;\n",
              "    padding: 0;\n",
              "    width: 32px;\n",
              "  }\n",
              "\n",
              "  .colab-df-quickchart:hover {\n",
              "    background-color: var(--hover-bg-color);\n",
              "    box-shadow: 0 1px 2px rgba(60, 64, 67, 0.3), 0 1px 3px 1px rgba(60, 64, 67, 0.15);\n",
              "    fill: var(--button-hover-fill-color);\n",
              "  }\n",
              "\n",
              "  .colab-df-quickchart-complete:disabled,\n",
              "  .colab-df-quickchart-complete:disabled:hover {\n",
              "    background-color: var(--disabled-bg-color);\n",
              "    fill: var(--disabled-fill-color);\n",
              "    box-shadow: none;\n",
              "  }\n",
              "\n",
              "  .colab-df-spinner {\n",
              "    border: 2px solid var(--fill-color);\n",
              "    border-color: transparent;\n",
              "    border-bottom-color: var(--fill-color);\n",
              "    animation:\n",
              "      spin 1s steps(1) infinite;\n",
              "  }\n",
              "\n",
              "  @keyframes spin {\n",
              "    0% {\n",
              "      border-color: transparent;\n",
              "      border-bottom-color: var(--fill-color);\n",
              "      border-left-color: var(--fill-color);\n",
              "    }\n",
              "    20% {\n",
              "      border-color: transparent;\n",
              "      border-left-color: var(--fill-color);\n",
              "      border-top-color: var(--fill-color);\n",
              "    }\n",
              "    30% {\n",
              "      border-color: transparent;\n",
              "      border-left-color: var(--fill-color);\n",
              "      border-top-color: var(--fill-color);\n",
              "      border-right-color: var(--fill-color);\n",
              "    }\n",
              "    40% {\n",
              "      border-color: transparent;\n",
              "      border-right-color: var(--fill-color);\n",
              "      border-top-color: var(--fill-color);\n",
              "    }\n",
              "    60% {\n",
              "      border-color: transparent;\n",
              "      border-right-color: var(--fill-color);\n",
              "    }\n",
              "    80% {\n",
              "      border-color: transparent;\n",
              "      border-right-color: var(--fill-color);\n",
              "      border-bottom-color: var(--fill-color);\n",
              "    }\n",
              "    90% {\n",
              "      border-color: transparent;\n",
              "      border-bottom-color: var(--fill-color);\n",
              "    }\n",
              "  }\n",
              "</style>\n",
              "\n",
              "      <script>\n",
              "        async function quickchart(key) {\n",
              "          const quickchartButtonEl =\n",
              "            document.querySelector('#' + key + ' button');\n",
              "          quickchartButtonEl.disabled = true;  // To prevent multiple clicks.\n",
              "          quickchartButtonEl.classList.add('colab-df-spinner');\n",
              "          try {\n",
              "            const charts = await google.colab.kernel.invokeFunction(\n",
              "                'suggestCharts', [key], {});\n",
              "          } catch (error) {\n",
              "            console.error('Error during call to suggestCharts:', error);\n",
              "          }\n",
              "          quickchartButtonEl.classList.remove('colab-df-spinner');\n",
              "          quickchartButtonEl.classList.add('colab-df-quickchart-complete');\n",
              "        }\n",
              "        (() => {\n",
              "          let quickchartButtonEl =\n",
              "            document.querySelector('#df-d6ae78a6-17b3-43e8-8611-aec84e735ca5 button');\n",
              "          quickchartButtonEl.style.display =\n",
              "            google.colab.kernel.accessAllowed ? 'block' : 'none';\n",
              "        })();\n",
              "      </script>\n",
              "    </div>\n",
              "\n",
              "    </div>\n",
              "  </div>\n"
            ],
            "application/vnd.google.colaboratory.intrinsic+json": {
              "type": "dataframe",
              "variable_name": "df_raw",
              "summary": "{\n  \"name\": \"df_raw\",\n  \"rows\": 1050,\n  \"fields\": [\n    {\n      \"column\": \"CustomerID\",\n      \"properties\": {\n        \"dtype\": \"number\",\n        \"std\": 289,\n        \"min\": 1,\n        \"max\": 1000,\n        \"num_unique_values\": 1000,\n        \"samples\": [\n          522,\n          738,\n          741\n        ],\n        \"semantic_type\": \"\",\n        \"description\": \"\"\n      }\n    },\n    {\n      \"column\": \"Name\",\n      \"properties\": {\n        \"dtype\": \"category\",\n        \"num_unique_values\": 56,\n        \"samples\": [\n          \"David  Brown\",\n          \" Charlie Smith\",\n          \"eve Smith\"\n        ],\n        \"semantic_type\": \"\",\n        \"description\": \"\"\n      }\n    },\n    {\n      \"column\": \"Email\",\n      \"properties\": {\n        \"dtype\": \"string\",\n        \"num_unique_values\": 868,\n        \"samples\": [\n          \"user454@yahoo.com\",\n          \"user76@yahoo.com\",\n          \"user571@GMAIL.com\"\n        ],\n        \"semantic_type\": \"\",\n        \"description\": \"\"\n      }\n    },\n    {\n      \"column\": \"Age\",\n      \"properties\": {\n        \"dtype\": \"number\",\n        \"std\": 21.6730606862021,\n        \"min\": -5.0,\n        \"max\": 200.0,\n        \"num_unique_values\": 56,\n        \"samples\": [\n          56.0,\n          51.0,\n          20.0\n        ],\n        \"semantic_type\": \"\",\n        \"description\": \"\"\n      }\n    },\n    {\n      \"column\": \"Income\",\n      \"properties\": {\n        \"dtype\": \"string\",\n        \"num_unique_values\": 918,\n        \"samples\": [\n          124405,\n          39065,\n          162692\n        ],\n        \"semantic_type\": \"\",\n        \"description\": \"\"\n      }\n    },\n    {\n      \"column\": \"City\",\n      \"properties\": {\n        \"dtype\": \"category\",\n        \"num_unique_values\": 10,\n        \"samples\": [\n          \"LA\",\n          \"houston\",\n          \"NY\"\n        ],\n        \"semantic_type\": \"\",\n        \"description\": \"\"\n      }\n    },\n    {\n      \"column\": \"Country\",\n      \"properties\": {\n        \"dtype\": \"category\",\n        \"num_unique_values\": 10,\n        \"samples\": [\n          \"USA\",\n          \"UK\",\n          \"Canada\"\n        ],\n        \"semantic_type\": \"\",\n        \"description\": \"\"\n      }\n    },\n    {\n      \"column\": \"SignupDate\",\n      \"properties\": {\n        \"dtype\": \"string\",\n        \"num_unique_values\": 815,\n        \"samples\": [\n          \"08/20/2022\",\n          \"11/02/2022\",\n          \"22-10-2022\"\n        ],\n        \"semantic_type\": \"\",\n        \"description\": \"\"\n      }\n    },\n    {\n      \"column\": \"LastPurchase\",\n      \"properties\": {\n        \"dtype\": \"date\",\n        \"min\": \"2019-01-06 00:00:00\",\n        \"max\": \"2024-06-22 00:00:00\",\n        \"num_unique_values\": 758,\n        \"samples\": [\n          \"2022-06-04\",\n          \"2023-07-14\",\n          \"2020-05-27\"\n        ],\n        \"semantic_type\": \"\",\n        \"description\": \"\"\n      }\n    },\n    {\n      \"column\": \"ProductCategory\",\n      \"properties\": {\n        \"dtype\": \"category\",\n        \"num_unique_values\": 9,\n        \"samples\": [\n          \"Electronics\",\n          \"Clothing\",\n          \"home\"\n        ],\n        \"semantic_type\": \"\",\n        \"description\": \"\"\n      }\n    },\n    {\n      \"column\": \"SpendAmount\",\n      \"properties\": {\n        \"dtype\": \"number\",\n        \"std\": 98780.40917341204,\n        \"min\": -500.0,\n        \"max\": 1000000.0,\n        \"num_unique_values\": 944,\n        \"samples\": [\n          1668.25,\n          1566.28,\n          3419.85\n        ],\n        \"semantic_type\": \"\",\n        \"description\": \"\"\n      }\n    },\n    {\n      \"column\": \"AccountStatus\",\n      \"properties\": {\n        \"dtype\": \"category\",\n        \"num_unique_values\": 11,\n        \"samples\": [\n          \"Active\",\n          \"Y\",\n          \"No\"\n        ],\n        \"semantic_type\": \"\",\n        \"description\": \"\"\n      }\n    },\n    {\n      \"column\": \"PhoneNumber\",\n      \"properties\": {\n        \"dtype\": \"string\",\n        \"num_unique_values\": 897,\n        \"samples\": [\n          \"+1-473-653-1495\",\n          \"4958233977\",\n          \"+1-478-634-6529\"\n        ],\n        \"semantic_type\": \"\",\n        \"description\": \"\"\n      }\n    }\n  ]\n}"
            }
          },
          "metadata": {},
          "execution_count": 15
        }
      ]
    },
    {
      "cell_type": "markdown",
      "source": [
        "##Examine the raw dataset to understand its structure, data types, and initial quality issues.\n",
        "\n"
      ],
      "metadata": {
        "id": "IobD2HRZSH55"
      }
    },
    {
      "cell_type": "code",
      "execution_count": 16,
      "metadata": {
        "colab": {
          "base_uri": "https://localhost:8080/"
        },
        "id": "WLvVUulJUFF9",
        "outputId": "ba9d23e9-9cf5-40da-fe44-01625b642015"
      },
      "outputs": [
        {
          "output_type": "stream",
          "name": "stdout",
          "text": [
            "Dataset Info:\n",
            "<class 'pandas.core.frame.DataFrame'>\n",
            "RangeIndex: 1050 entries, 0 to 1049\n",
            "Data columns (total 13 columns):\n",
            " #   Column           Non-Null Count  Dtype  \n",
            "---  ------           --------------  -----  \n",
            " 0   CustomerID       1050 non-null   int64  \n",
            " 1   Name             1050 non-null   object \n",
            " 2   Email            941 non-null    object \n",
            " 3   Age              995 non-null    float64\n",
            " 4   Income           1007 non-null   object \n",
            " 5   City             980 non-null    object \n",
            " 6   Country          1050 non-null   object \n",
            " 7   SignupDate       1007 non-null   object \n",
            " 8   LastPurchase     995 non-null    object \n",
            " 9   ProductCategory  964 non-null    object \n",
            " 10  SpendAmount      1011 non-null   float64\n",
            " 11  AccountStatus    990 non-null    object \n",
            " 12  PhoneNumber      985 non-null    object \n",
            "dtypes: float64(2), int64(1), object(10)\n",
            "memory usage: 106.8+ KB\n",
            "None\n",
            "\n",
            "==================================================\n",
            "\n",
            "First 10 rows:\n",
            "   CustomerID             Name            Email   Age  Income      City  \\\n",
            "0           1     David  Brown             None   NaN    None      None   \n",
            "1           2   Charlie Davis   user1@GMAIL.com  56.0  157337  new york   \n",
            "2           3      John  Brown  user2@yahoo.com  39.0  150608   houston   \n",
            "3           4      jane  Brown  user3@GMAIL.com  45.0  140174   Chicago   \n",
            "4           5      jane WILSON  user4@yahoo.com  53.0  183678   CHICAGO   \n",
            "5           6    Charlie Smith  user5@GMAIL.com  42.0   60774   Houston   \n",
            "6           7      Emma  Brown  user6@yahoo.com  51.0   72256   Chicago   \n",
            "7           8     David WILSON  user7@GMAIL.com  56.0  141626   Houston   \n",
            "8           9       Emma moore  user8@yahoo.com  68.0  137845        NY   \n",
            "9          10     John johnson  user9@GMAIL.com  69.0  147948   Houston   \n",
            "\n",
            "          Country  SignupDate LastPurchase ProductCategory  SpendAmount  \\\n",
            "0  United Kingdom  not a date         None            None          NaN   \n",
            "1              UK  26-11-2020   2019-03-29        clothing      3009.56   \n",
            "2   United States  2023-06-21   2022-02-28        clothing      3041.65   \n",
            "3  United Kingdom  02/04/2020   2022-01-09        Clothing       919.36   \n",
            "4              UK  2023-06-29   2023-09-22   Home & Garden      4224.22   \n",
            "5  United Kingdom  26-02-2023   2022-03-08     ELECTRONICS      3537.22   \n",
            "6              UK  15-03-2022   2020-11-14   Home & Garden      1380.86   \n",
            "7          CANADA  2022-06-10   2023-09-11           books      2382.10   \n",
            "8          CANADA  07/10/2021   2024-05-30        clothing      4358.59   \n",
            "9   United States  10/14/2023   2023-01-19            home      2429.30   \n",
            "\n",
            "  AccountStatus      PhoneNumber  \n",
            "0          None             None  \n",
            "1             Y  +1-330-761-1769  \n",
            "2      inactive  +1-366-373-9792  \n",
            "3      Inactive       6429456860  \n",
            "4        active   (692) 140-6276  \n",
            "5        ACTIVE  +1-618-388-6892  \n",
            "6        ACTIVE   (968) 104-8385  \n",
            "7      Inactive  +1-933-584-8574  \n",
            "8      Inactive  +1-997-430-2663  \n",
            "9        Active  +1-433-783-1663  \n",
            "\n",
            "==================================================\n",
            "\n",
            "Missing values per column:\n",
            "CustomerID           0\n",
            "Name                 0\n",
            "Email              109\n",
            "Age                 55\n",
            "Income              43\n",
            "City                70\n",
            "Country              0\n",
            "SignupDate          43\n",
            "LastPurchase        55\n",
            "ProductCategory     86\n",
            "SpendAmount         39\n",
            "AccountStatus       60\n",
            "PhoneNumber         65\n",
            "dtype: int64\n",
            "\n",
            "==================================================\n",
            "\n",
            "Basic statistics:\n",
            "         CustomerID        Name          Email         Age          Income  \\\n",
            "count   1050.000000        1050            941  995.000000            1007   \n",
            "unique          NaN          56            868         NaN             918   \n",
            "top             NaN  John Smith  invalid_email         NaN  fifty thousand   \n",
            "freq            NaN          30             34         NaN              26   \n",
            "mean     497.409524         NaN            NaN   44.586935             NaN   \n",
            "std      289.697571         NaN            NaN   21.673061             NaN   \n",
            "min        1.000000         NaN            NaN   -5.000000             NaN   \n",
            "25%      245.250000         NaN            NaN   31.000000             NaN   \n",
            "50%      494.500000         NaN            NaN   43.000000             NaN   \n",
            "75%      749.750000         NaN            NaN   56.000000             NaN   \n",
            "max     1000.000000         NaN            NaN  200.000000             NaN   \n",
            "\n",
            "           City Country  SignupDate LastPurchase ProductCategory  \\\n",
            "count       980    1050        1007          995             964   \n",
            "unique       10      10         815          758               9   \n",
            "top     Chicago   INDIA  not a date   2020-05-07        clothing   \n",
            "freq        118     117          58            5             124   \n",
            "mean        NaN     NaN         NaN          NaN             NaN   \n",
            "std         NaN     NaN         NaN          NaN             NaN   \n",
            "min         NaN     NaN         NaN          NaN             NaN   \n",
            "25%         NaN     NaN         NaN          NaN             NaN   \n",
            "50%         NaN     NaN         NaN          NaN             NaN   \n",
            "75%         NaN     NaN         NaN          NaN             NaN   \n",
            "max         NaN     NaN         NaN          NaN             NaN   \n",
            "\n",
            "           SpendAmount AccountStatus PhoneNumber  \n",
            "count      1011.000000           990         985  \n",
            "unique             NaN            11         897  \n",
            "top                NaN        ACTIVE         123  \n",
            "freq               NaN           114          41  \n",
            "mean      12300.075668           NaN         NaN  \n",
            "std       98780.409173           NaN         NaN  \n",
            "min        -500.000000           NaN         NaN  \n",
            "25%        1165.595000           NaN         NaN  \n",
            "50%        2441.190000           NaN         NaN  \n",
            "75%        3755.250000           NaN         NaN  \n",
            "max     1000000.000000           NaN         NaN  \n"
          ]
        }
      ],
      "source": [
        "print(\"Dataset Info:\")\n",
        "print(df_raw.info())\n",
        "print(\"\\n\" + \"=\"*50 + \"\\n\")\n",
        "print(\"First 10 rows:\")\n",
        "print(df_raw.head(10))\n",
        "print(\"\\n\" + \"=\"*50 + \"\\n\")\n",
        "print(\"Missing values per column:\")\n",
        "print(df_raw.isnull().sum())\n",
        "print(\"\\n\" + \"=\"*50 + \"\\n\")\n",
        "print(\"Basic statistics:\")\n",
        "print(df_raw.describe(include='all'))\n"
      ]
    },
    {
      "cell_type": "markdown",
      "source": [
        "##Visualize Missing Data\n",
        "Create a heatmap to visualize the pattern of missing values across the dataset."
      ],
      "metadata": {
        "id": "0Odjtld-TDBd"
      }
    },
    {
      "cell_type": "code",
      "source": [
        "plt.figure(figsize=(12, 6))\n",
        "sns.heatmap(df_raw.isnull(), cbar=True, yticklabels=False, cmap='viridis')\n",
        "plt.title('Missing Data Heatmap (Raw Dataset)')\n",
        "plt.tight_layout()\n",
        "plt.show()\n",
        "\n",
        "# Missing data percentage\n",
        "missing_pct = (df_raw.isnull().sum() / len(df_raw)) * 100\n",
        "print(\"Missing data percentage by column:\")\n",
        "print(missing_pct[missing_pct > 0].sort_values(ascending=False))\n"
      ],
      "metadata": {
        "colab": {
          "base_uri": "https://localhost:8080/",
          "height": 815
        },
        "id": "R0mts23dVFjC",
        "outputId": "13c2f146-efe4-4e83-c621-546e38dd1519"
      },
      "execution_count": 17,
      "outputs": [
        {
          "output_type": "display_data",
          "data": {
            "text/plain": [
              "<Figure size 1200x600 with 2 Axes>"
            ],
            "image/png": "[encoded data removed]"
          },
          "metadata": {}
        },
        {
          "output_type": "stream",
          "name": "stdout",
          "text": [
            "Missing data percentage by column:\n",
            "Email              10.380952\n",
            "ProductCategory     8.190476\n",
            "City                6.666667\n",
            "PhoneNumber         6.190476\n",
            "AccountStatus       5.714286\n",
            "Age                 5.238095\n",
            "LastPurchase        5.238095\n",
            "Income              4.095238\n",
            "SignupDate          4.095238\n",
            "SpendAmount         3.714286\n",
            "dtype: float64\n"
          ]
        }
      ]
    },
    {
      "cell_type": "markdown",
      "source": [
        "  ## HANDLING MISSING DATA\n",
        "\n",
        "  ## Missing Data Strategy\n",
        "We'll use multiple approaches:\n",
        "\n",
        "Deletion for rows with critical missing values\n",
        "\n",
        "Statistical imputation (mean, median, mode)\n",
        "\n",
        "Forward/backward fill for time series\n",
        "\n",
        "Constant value imputation"
      ],
      "metadata": {
        "id": "sg1_SvZuTcYL"
      }
    },
    {
      "cell_type": "code",
      "source": [
        "df = df_raw.copy()\n",
        "print(f\"Starting with {len(df)} rows\")\n"
      ],
      "metadata": {
        "colab": {
          "base_uri": "https://localhost:8080/"
        },
        "id": "oixuG09wVer8",
        "outputId": "20625bfa-74c7-4186-efc0-650d447581e4"
      },
      "execution_count": 18,
      "outputs": [
        {
          "output_type": "stream",
          "name": "stdout",
          "text": [
            "Starting with 1050 rows\n"
          ]
        }
      ]
    },
    {
      "cell_type": "markdown",
      "source": [
        "Listwise Deletion for Critical Missing"
      ],
      "metadata": {
        "id": "XVthm53NT1vz"
      }
    },
    {
      "cell_type": "code",
      "source": [
        "# Remove rows where CustomerID is missing (critical field)\n",
        "initial_count = len(df)\n",
        "df = df[df['CustomerID'].notna()]\n",
        "print(f\"Removed {initial_count - len(df)} rows with missing CustomerID\")\n"
      ],
      "metadata": {
        "colab": {
          "base_uri": "https://localhost:8080/"
        },
        "id": "PVDIaQOgWUyn",
        "outputId": "c7865465-c4e4-4243-c4f3-6595744bd0f8"
      },
      "execution_count": 19,
      "outputs": [
        {
          "output_type": "stream",
          "name": "stdout",
          "text": [
            "Removed 0 rows with missing CustomerID\n"
          ]
        }
      ]
    },
    {
      "cell_type": "markdown",
      "source": [
        "Column Deletion Assessment"
      ],
      "metadata": {
        "id": "1jeNYXATT-EF"
      }
    },
    {
      "cell_type": "code",
      "source": [
        "# Check if any column has > 50% missing (would consider deletion)\n",
        "high_missing = (df.isnull().sum() / len(df)) > 0.5\n",
        "print(\"Columns with >50% missing data:\")\n",
        "print(high_missing[high_missing == True])\n",
        "\n"
      ],
      "metadata": {
        "colab": {
          "base_uri": "https://localhost:8080/"
        },
        "id": "rdNI8Gm9OE_v",
        "outputId": "9a355aeb-d79e-4aa4-85bf-15f1bf5cb1aa"
      },
      "execution_count": 20,
      "outputs": [
        {
          "output_type": "stream",
          "name": "stdout",
          "text": [
            "Columns with >50% missing data:\n",
            "Series([], dtype: bool)\n"
          ]
        }
      ]
    },
    {
      "cell_type": "markdown",
      "source": [
        "Statistical Imputation - Numerical Columns"
      ],
      "metadata": {
        "id": "GoHF9Ng8UVW8"
      }
    },
    {
      "cell_type": "code",
      "source": [
        "# Age: Impute with median\n",
        "age_median = df['Age'].median()\n",
        "df['Age'].fillna(age_median, inplace=True)\n",
        "print(f\"Filled Age missing values with median: {age_median}\")\n",
        "\n",
        "# Income: Impute with mean (after cleaning)\n",
        "# Will handle this after fixing data types\n",
        "\n",
        "# SpendAmount: Impute with median\n",
        "spend_median = df['SpendAmount'].median()\n",
        "df['SpendAmount'].fillna(spend_median, inplace=True)\n",
        "print(f\"Filled SpendAmount missing values with median: {spend_median}\")\n"
      ],
      "metadata": {
        "colab": {
          "base_uri": "https://localhost:8080/"
        },
        "id": "wGlnxB1PUWNB",
        "outputId": "b485f5ce-3c5d-4732-b1a2-22fc1460c90e"
      },
      "execution_count": 21,
      "outputs": [
        {
          "output_type": "stream",
          "name": "stdout",
          "text": [
            "Filled Age missing values with median: 43.0\n",
            "Filled SpendAmount missing values with median: 2441.19\n"
          ]
        }
      ]
    },
    {
      "cell_type": "markdown",
      "source": [
        " Mode Imputation - Categorical Columns\n"
      ],
      "metadata": {
        "id": "KSeC7jIyVek2"
      }
    },
    {
      "cell_type": "code",
      "source": [
        "# City: Impute with mode\n",
        "city_mode = df['City'].mode()[0] if len(df['City'].mode()) > 0 else 'Unknown'\n",
        "df['City'].fillna(city_mode, inplace=True)\n",
        "\n",
        "# ProductCategory: Impute with mode\n",
        "category_mode = df['ProductCategory'].mode()[0] if len(df['ProductCategory'].mode()) > 0 else 'Unknown'\n",
        "df['ProductCategory'].fillna(category_mode, inplace=True)\n",
        "\n",
        "# AccountStatus: Impute with mode\n",
        "status_mode = df['AccountStatus'].mode()[0] if len(df['AccountStatus'].mode()) > 0 else 'Unknown'\n",
        "df['AccountStatus'].fillna(status_mode, inplace=True)\n",
        "\n",
        "print(\"Filled categorical columns with mode values\")\n"
      ],
      "metadata": {
        "colab": {
          "base_uri": "https://localhost:8080/"
        },
        "id": "QeJdRZ4AVmOB",
        "outputId": "8d53aee3-40e1-44ed-d018-4b8315dc5e79"
      },
      "execution_count": 22,
      "outputs": [
        {
          "output_type": "stream",
          "name": "stdout",
          "text": [
            "Filled categorical columns with mode values\n"
          ]
        }
      ]
    },
    {
      "cell_type": "markdown",
      "source": [
        "Constant Value Imputation"
      ],
      "metadata": {
        "id": "QKIkCYQyViPJ"
      }
    },
    {
      "cell_type": "code",
      "source": [
        "# Email: Fill with placeholder\n",
        "df['Email'].fillna('unknown@email.com', inplace=True)\n",
        "\n",
        "# PhoneNumber: Fill with placeholder\n",
        "df['PhoneNumber'].fillna('000-000-0000', inplace=True)\n",
        "\n",
        "print(\"Filled Email and PhoneNumber with constant placeholders\")\n"
      ],
      "metadata": {
        "colab": {
          "base_uri": "https://localhost:8080/"
        },
        "id": "sJHVkNIiWKy-",
        "outputId": "0ed89ded-d10e-4064-e5d0-208dc1dbafb0"
      },
      "execution_count": 23,
      "outputs": [
        {
          "output_type": "stream",
          "name": "stdout",
          "text": [
            "Filled Email and PhoneNumber with constant placeholders\n"
          ]
        }
      ]
    },
    {
      "cell_type": "markdown",
      "source": [
        "Check Remaining Missing Values\n"
      ],
      "metadata": {
        "id": "78l3QzL-WUSa"
      }
    },
    {
      "cell_type": "code",
      "source": [
        "print(\"Missing values after imputation:\")\n",
        "print(df.isnull().sum())"
      ],
      "metadata": {
        "colab": {
          "base_uri": "https://localhost:8080/"
        },
        "id": "JN73aRfZWVTT",
        "outputId": "86386ac4-7144-47e7-e707-bfd6de1b2512"
      },
      "execution_count": 24,
      "outputs": [
        {
          "output_type": "stream",
          "name": "stdout",
          "text": [
            "Missing values after imputation:\n",
            "CustomerID          0\n",
            "Name                0\n",
            "Email               0\n",
            "Age                 0\n",
            "Income             43\n",
            "City                0\n",
            "Country             0\n",
            "SignupDate         43\n",
            "LastPurchase       55\n",
            "ProductCategory     0\n",
            "SpendAmount         0\n",
            "AccountStatus       0\n",
            "PhoneNumber         0\n",
            "dtype: int64\n"
          ]
        }
      ]
    },
    {
      "cell_type": "markdown",
      "source": [
        "##CORRECTING STRUCTURAL ERRORS\n",
        "##Fix Typos and Inconsistent Capitalization\n",
        "Standardize text fields to ensure consistency across the dataset."
      ],
      "metadata": {
        "id": "GyWM2osmWenK"
      }
    },
    {
      "cell_type": "code",
      "source": [
        "# Strip whitespace and title case\n",
        "df['Name'] = df['Name'].str.strip().str.title()\n",
        "print(\"Sample cleaned names:\")\n",
        "print(df['Name'].head(10))\n"
      ],
      "metadata": {
        "colab": {
          "base_uri": "https://localhost:8080/"
        },
        "id": "nYFiu91iWk8q",
        "outputId": "c9ec2ff7-d212-4edd-9fff-7c246adb7380"
      },
      "execution_count": 25,
      "outputs": [
        {
          "output_type": "stream",
          "name": "stdout",
          "text": [
            "Sample cleaned names:\n",
            "0     David  Brown\n",
            "1    Charlie Davis\n",
            "2      John  Brown\n",
            "3      Jane  Brown\n",
            "4      Jane Wilson\n",
            "5    Charlie Smith\n",
            "6      Emma  Brown\n",
            "7     David Wilson\n",
            "8       Emma Moore\n",
            "9     John Johnson\n",
            "Name: Name, dtype: object\n"
          ]
        }
      ]
    },
    {
      "cell_type": "markdown",
      "source": [
        "Standardize City Names"
      ],
      "metadata": {
        "id": "Z00senwcWmtc"
      }
    },
    {
      "cell_type": "code",
      "source": [
        "# Create mapping for city standardization\n",
        "city_mapping = {\n",
        "    'new york': 'New York',\n",
        "    'ny': 'New York',\n",
        "    'los angeles': 'Los Angeles',\n",
        "    'la': 'Los Angeles',\n",
        "    'chicago': 'Chicago',\n",
        "    'houston': 'Houston'\n",
        "}\n",
        "\n",
        "df['City'] = df['City'].str.strip().str.lower()\n",
        "df['City'] = df['City'].replace(city_mapping)\n",
        "df['City'] = df['City'].str.title()\n",
        "\n",
        "print(\"Unique cities after standardization:\")\n",
        "print(df['City'].unique())\n"
      ],
      "metadata": {
        "colab": {
          "base_uri": "https://localhost:8080/"
        },
        "id": "xEJcxG1zWpxK",
        "outputId": "c1b9bcb1-339d-47af-fca0-2854bf82005f"
      },
      "execution_count": 26,
      "outputs": [
        {
          "output_type": "stream",
          "name": "stdout",
          "text": [
            "Unique cities after standardization:\n",
            "['Chicago' 'New York' 'Houston' 'Los Angeles']\n"
          ]
        }
      ]
    },
    {
      "cell_type": "markdown",
      "source": [
        "Standardize Country Names"
      ],
      "metadata": {
        "id": "inKUKQYtWuYU"
      }
    },
    {
      "cell_type": "code",
      "source": [
        "# Create mapping for country standardization\n",
        "country_mapping = {\n",
        "    'usa': 'USA',\n",
        "    'united states': 'USA',\n",
        "    'us': 'USA',\n",
        "    'india': 'India',\n",
        "    'uk': 'UK',\n",
        "    'united kingdom': 'UK',\n",
        "    'canada': 'Canada'\n",
        "}\n",
        "\n",
        "df['Country'] = df['Country'].str.strip().str.lower()\n",
        "df['Country'] = df['Country'].replace(country_mapping)\n",
        "\n",
        "print(\"Unique countries after standardization:\")\n",
        "print(df['Country'].unique())\n"
      ],
      "metadata": {
        "colab": {
          "base_uri": "https://localhost:8080/"
        },
        "id": "MldM_LiJWxJ_",
        "outputId": "1e7de349-04bf-4d87-fffe-de5a2299c600"
      },
      "execution_count": 27,
      "outputs": [
        {
          "output_type": "stream",
          "name": "stdout",
          "text": [
            "Unique countries after standardization:\n",
            "['UK' 'USA' 'Canada' 'India']\n"
          ]
        }
      ]
    },
    {
      "cell_type": "markdown",
      "source": [
        " Standardize Product Categories"
      ],
      "metadata": {
        "id": "wKIGG-OeW0V8"
      }
    },
    {
      "cell_type": "code",
      "source": [
        "df['ProductCategory'] = df['ProductCategory'].str.strip().str.lower()\n",
        "category_mapping = {\n",
        "    'electronics': 'Electronics',\n",
        "    'clothing': 'Clothing',\n",
        "    'books': 'Books',\n",
        "    'home': 'Home & Garden',\n",
        "    'home & garden': 'Home & Garden'\n",
        "}\n",
        "\n",
        "df['ProductCategory'] = df['ProductCategory'].replace(category_mapping)\n",
        "\n",
        "print(\"Unique product categories after standardization:\")\n",
        "print(df['ProductCategory'].unique())\n"
      ],
      "metadata": {
        "colab": {
          "base_uri": "https://localhost:8080/"
        },
        "id": "X2SkG02TW4qG",
        "outputId": "5622041d-aadf-4516-c923-3b14119fec45"
      },
      "execution_count": 28,
      "outputs": [
        {
          "output_type": "stream",
          "name": "stdout",
          "text": [
            "Unique product categories after standardization:\n",
            "['Clothing' 'Home & Garden' 'Electronics' 'Books']\n"
          ]
        }
      ]
    },
    {
      "cell_type": "markdown",
      "source": [
        " Standardize Account Status"
      ],
      "metadata": {
        "id": "ThfclkIyW9I1"
      }
    },
    {
      "cell_type": "code",
      "source": [
        "def normalize_status(val):\n",
        "    if pd.isna(val):\n",
        "        return 'Unknown'\n",
        "    val = str(val).strip().lower()\n",
        "    if val in ['active', 'y', 'yes']:\n",
        "        return 'Active'\n",
        "    elif val in ['inactive', 'n', 'no']:\n",
        "        return 'Inactive'\n",
        "    elif val in ['suspended']:\n",
        "        return 'Suspended'\n",
        "    else:\n",
        "        return 'Unknown'\n",
        "\n",
        "df['AccountStatus'] = df['AccountStatus'].apply(normalize_status)\n",
        "\n",
        "print(\"Unique account statuses after standardization:\")\n",
        "print(df['AccountStatus'].unique())\n"
      ],
      "metadata": {
        "colab": {
          "base_uri": "https://localhost:8080/"
        },
        "id": "kRqCSbbgW6NN",
        "outputId": "e13e4595-5a02-4fe0-ae90-dd337c21165c"
      },
      "execution_count": 29,
      "outputs": [
        {
          "output_type": "stream",
          "name": "stdout",
          "text": [
            "Unique account statuses after standardization:\n",
            "['Active' 'Inactive' 'Suspended']\n"
          ]
        }
      ]
    },
    {
      "cell_type": "markdown",
      "source": [
        "##Fix Wrong Data Types\n",
        "Ensure all columns have appropriate data types for analysis."
      ],
      "metadata": {
        "id": "DpRLHYu0XB-D"
      }
    },
    {
      "cell_type": "code",
      "source": [
        "df['Age'] = pd.to_numeric(df['Age'], errors='coerce')\n",
        "df['Age'].fillna(df['Age'].median(), inplace=True)\n",
        "print(f\"Age data type: {df['Age'].dtype}\")\n"
      ],
      "metadata": {
        "colab": {
          "base_uri": "https://localhost:8080/"
        },
        "id": "XG7jXFEqXGXO",
        "outputId": "a32cd759-0033-4f36-b8d7-96964348837c"
      },
      "execution_count": 30,
      "outputs": [
        {
          "output_type": "stream",
          "name": "stdout",
          "text": [
            "Age data type: float64\n"
          ]
        }
      ]
    },
    {
      "cell_type": "markdown",
      "source": [
        "Convert Income to Numeric"
      ],
      "metadata": {
        "id": "aS_8AtEoXE5K"
      }
    },
    {
      "cell_type": "code",
      "source": [
        "def clean_income(val):\n",
        "    if pd.isna(val):\n",
        "        return np.nan\n",
        "    if isinstance(val, str):\n",
        "        val = val.lower().replace('fifty thousand', '50000')\n",
        "        val = val.replace(',', '').replace('$', '')\n",
        "    try:\n",
        "        return float(val)\n",
        "    except:\n",
        "        return np.nan\n",
        "\n",
        "df['Income'] = df['Income'].apply(clean_income)\n",
        "df['Income'].fillna(df['Income'].median(), inplace=True)\n",
        "print(f\"Income data type: {df['Income'].dtype}\")\n",
        "print(f\"Income range: {df['Income'].min()} to {df['Income'].max()}\")\n"
      ],
      "metadata": {
        "colab": {
          "base_uri": "https://localhost:8080/"
        },
        "id": "jpshxGCsXLjo",
        "outputId": "f66f6a60-bebc-4446-d950-9c3d35fea778"
      },
      "execution_count": 31,
      "outputs": [
        {
          "output_type": "stream",
          "name": "stdout",
          "text": [
            "Income data type: float64\n",
            "Income range: -50000.0 to 199961.0\n"
          ]
        }
      ]
    },
    {
      "cell_type": "markdown",
      "source": [
        "Parse Date Columns"
      ],
      "metadata": {
        "id": "KwmIQr2EXNrG"
      }
    },
    {
      "cell_type": "code",
      "source": [
        "# SignupDate - multiple formats\n",
        "df['SignupDate'] = pd.to_datetime(df['SignupDate'], errors='coerce', infer_datetime_format=True)\n",
        "\n",
        "# LastPurchase\n",
        "df['LastPurchase'] = pd.to_datetime(df['LastPurchase'], errors='coerce')\n",
        "\n",
        "# Fill missing dates with median date\n",
        "signup_median = df['SignupDate'].median()\n",
        "df['SignupDate'].fillna(signup_median, inplace=True)\n",
        "\n",
        "purchase_median = df['LastPurchase'].median()\n",
        "df['LastPurchase'].fillna(purchase_median, inplace=True)\n",
        "\n",
        "print(\"Date columns converted to datetime:\")\n",
        "print(f\"SignupDate range: {df['SignupDate'].min()} to {df['SignupDate'].max()}\")\n",
        "print(f\"LastPurchase range: {df['LastPurchase'].min()} to {df['LastPurchase'].max()}\")\n"
      ],
      "metadata": {
        "colab": {
          "base_uri": "https://localhost:8080/"
        },
        "id": "NCJ3VeywXQeJ",
        "outputId": "ec21594b-0e89-43a8-8c33-a787e4d1aada"
      },
      "execution_count": 32,
      "outputs": [
        {
          "output_type": "stream",
          "name": "stdout",
          "text": [
            "Date columns converted to datetime:\n",
            "SignupDate range: 2020-01-01 00:00:00 to 2024-06-01 00:00:00\n",
            "LastPurchase range: 2019-01-06 00:00:00 to 2024-06-22 00:00:00\n"
          ]
        }
      ]
    },
    {
      "cell_type": "markdown",
      "source": [
        "Standardize Email Format"
      ],
      "metadata": {
        "id": "b6msUT2CXSME"
      }
    },
    {
      "cell_type": "code",
      "source": [
        "df['Email'] = df['Email'].str.strip().str.lower()\n",
        "print(\"Sample emails after standardization:\")\n",
        "print(df['Email'].head(10))\n"
      ],
      "metadata": {
        "colab": {
          "base_uri": "https://localhost:8080/"
        },
        "id": "Kxl_22qrXVpG",
        "outputId": "bd8d7717-8ed2-41c9-8db6-929709531171"
      },
      "execution_count": 33,
      "outputs": [
        {
          "output_type": "stream",
          "name": "stdout",
          "text": [
            "Sample emails after standardization:\n",
            "0    unknown@email.com\n",
            "1      user1@gmail.com\n",
            "2      user2@yahoo.com\n",
            "3      user3@gmail.com\n",
            "4      user4@yahoo.com\n",
            "5      user5@gmail.com\n",
            "6      user6@yahoo.com\n",
            "7      user7@gmail.com\n",
            "8      user8@yahoo.com\n",
            "9      user9@gmail.com\n",
            "Name: Email, dtype: object\n"
          ]
        }
      ]
    },
    {
      "cell_type": "markdown",
      "source": [
        "##MANAGING OUTLIERS\n",
        "##Outlier Detection and Treatment\n",
        "Identify outliers using statistical methods (Z-score, IQR) and apply appropriate treatments."
      ],
      "metadata": {
        "id": "BmN3cz7HXVHY"
      }
    },
    {
      "cell_type": "markdown",
      "source": [
        "Detect Outliers - Age"
      ],
      "metadata": {
        "id": "HUgEZMqwXjTS"
      }
    },
    {
      "cell_type": "code",
      "source": [
        "# Z-score method\n",
        "z_scores = np.abs(stats.zscore(df['Age']))\n",
        "age_outliers = df[z_scores > 3]\n",
        "\n",
        "print(f\"Found {len(age_outliers)} age outliers using Z-score method\")\n",
        "print(\"Sample age outliers:\")\n",
        "print(age_outliers[['Name', 'Age']].head())\n",
        "\n",
        "# Visualize before treatment\n",
        "plt.figure(figsize=(12, 4))\n",
        "plt.subplot(1, 2, 1)\n",
        "plt.boxplot(df['Age'])\n",
        "plt.title('Age Distribution with Outliers')\n",
        "plt.ylabel('Age')\n",
        "\n",
        "plt.subplot(1, 2, 2)\n",
        "plt.hist(df['Age'], bins=30, edgecolor='black')\n",
        "plt.title('Age Histogram with Outliers')\n",
        "plt.xlabel('Age')\n",
        "plt.ylabel('Frequency')\n",
        "plt.tight_layout()\n",
        "plt.show()\n"
      ],
      "metadata": {
        "colab": {
          "base_uri": "https://localhost:8080/",
          "height": 546
        },
        "id": "oGusWmTQXf-S",
        "outputId": "be3de69c-3f2b-4007-8d6d-34e1a77f4eac"
      },
      "execution_count": 34,
      "outputs": [
        {
          "output_type": "stream",
          "name": "stdout",
          "text": [
            "Found 12 age outliers using Z-score method\n",
            "Sample age outliers:\n",
            "              Name    Age\n",
            "90     John Wilson  200.0\n",
            "150     Bob  Smith  150.0\n",
            "210     Eve Wilson  200.0\n",
            "270    John  Brown  200.0\n",
            "390  Charlie Moore  200.0\n"
          ]
        },
        {
          "output_type": "display_data",
          "data": {
            "text/plain": [
              "<Figure size 1200x400 with 2 Axes>"
            ],
            "image/png": "[encoded data removed]"
          },
          "metadata": {}
        }
      ]
    },
    {
      "cell_type": "markdown",
      "source": [
        "Cap Age Outliers (Winsorizing)"
      ],
      "metadata": {
        "id": "_LQLTkcQXtkD"
      }
    },
    {
      "cell_type": "code",
      "source": [
        "# Cap age between 18 and 80\n",
        "df['Age'] = df['Age'].clip(lower=18, upper=80)\n",
        "\n",
        "print(f\"Age after capping: {df['Age'].min()} to {df['Age'].max()}\")\n",
        "\n",
        "# Visualize after treatment\n",
        "plt.figure(figsize=(12, 4))\n",
        "plt.subplot(1, 2, 1)\n",
        "plt.boxplot(df['Age'])\n",
        "plt.title('Age Distribution after Capping')\n",
        "plt.ylabel('Age')\n",
        "\n",
        "plt.subplot(1, 2, 2)\n",
        "plt.hist(df['Age'], bins=30, edgecolor='black')\n",
        "plt.title('Age Histogram after Capping')\n",
        "plt.xlabel('Age')\n",
        "plt.ylabel('Frequency')\n",
        "plt.tight_layout()\n",
        "plt.show()\n"
      ],
      "metadata": {
        "colab": {
          "base_uri": "https://localhost:8080/",
          "height": 424
        },
        "id": "ksgJOJ26Xudu",
        "outputId": "81ab8b41-e3df-4eb7-b388-5406b549c5f3"
      },
      "execution_count": 35,
      "outputs": [
        {
          "output_type": "stream",
          "name": "stdout",
          "text": [
            "Age after capping: 18.0 to 80.0\n"
          ]
        },
        {
          "output_type": "display_data",
          "data": {
            "text/plain": [
              "<Figure size 1200x400 with 2 Axes>"
            ],
            "image/png": "[encoded data removed]"
          },
          "metadata": {}
        }
      ]
    },
    {
      "cell_type": "markdown",
      "source": [
        "Detect Outliers - Income (IQR Method)"
      ],
      "metadata": {
        "id": "DLQdFY_nXwZU"
      }
    },
    {
      "cell_type": "code",
      "source": [
        "Q1 = df['Income'].quantile(0.25)\n",
        "Q3 = df['Income'].quantile(0.75)\n",
        "IQR = Q3 - Q1\n",
        "\n",
        "lower_bound = Q1 - 1.5 * IQR\n",
        "upper_bound = Q3 + 1.5 * IQR\n",
        "\n",
        "income_outliers = df[(df['Income'] < lower_bound) | (df['Income'] > upper_bound)]\n",
        "print(f\"Found {len(income_outliers)} income outliers using IQR method\")\n",
        "print(f\"IQR bounds: {lower_bound} to {upper_bound}\")\n",
        "\n",
        "# Visualize\n",
        "plt.figure(figsize=(12, 4))\n",
        "plt.subplot(1, 2, 1)\n",
        "plt.boxplot(df['Income'])\n",
        "plt.title('Income Distribution with Outliers')\n",
        "plt.ylabel('Income ($)')\n",
        "\n",
        "plt.subplot(1, 2, 2)\n",
        "plt.hist(df['Income'], bins=50, edgecolor='black')\n",
        "plt.title('Income Histogram with Outliers')\n",
        "plt.xlabel('Income ($)')\n",
        "plt.ylabel('Frequency')\n",
        "plt.tight_layout()\n",
        "plt.show()\n"
      ],
      "metadata": {
        "colab": {
          "base_uri": "https://localhost:8080/",
          "height": 442
        },
        "id": "t87s6uohX1l0",
        "outputId": "927bdc0b-6957-4ccf-fcc0-ea62ad97daad"
      },
      "execution_count": 36,
      "outputs": [
        {
          "output_type": "stream",
          "name": "stdout",
          "text": [
            "Found 0 income outliers using IQR method\n",
            "IQR bounds: -78070.625 to 289048.375\n"
          ]
        },
        {
          "output_type": "display_data",
          "data": {
            "text/plain": [
              "<Figure size 1200x400 with 2 Axes>"
            ],
            "image/png": "[encoded data removed]"
          },
          "metadata": {}
        }
      ]
    },
    {
      "cell_type": "markdown",
      "source": [
        "Cap Income Outliers"
      ],
      "metadata": {
        "id": "S8zt9ethX3Gn"
      }
    },
    {
      "cell_type": "code",
      "source": [
        "# Remove negative income and cap at reasonable bounds\n",
        "df['Income'] = df['Income'].clip(lower=15000, upper=250000)\n",
        "\n",
        "print(f\"Income after capping: ${df['Income'].min():,.0f} to ${df['Income'].max():,.0f}\")\n",
        "\n",
        "# Visualize after treatment\n",
        "plt.figure(figsize=(12, 4))\n",
        "plt.subplot(1, 2, 1)\n",
        "plt.boxplot(df['Income'])\n",
        "plt.title('Income Distribution after Capping')\n",
        "plt.ylabel('Income ($)')\n",
        "\n",
        "plt.subplot(1, 2, 2)\n",
        "plt.hist(df['Income'], bins=50, edgecolor='black')\n",
        "plt.title('Income Histogram after Capping')\n",
        "plt.xlabel('Income ($)')\n",
        "plt.ylabel('Frequency')\n",
        "plt.tight_layout()\n",
        "plt.show()\n"
      ],
      "metadata": {
        "colab": {
          "base_uri": "https://localhost:8080/",
          "height": 424
        },
        "id": "pfOnCNRPX57f",
        "outputId": "98611e6b-6083-4d8c-e3a5-ae79e71d6a61"
      },
      "execution_count": 37,
      "outputs": [
        {
          "output_type": "stream",
          "name": "stdout",
          "text": [
            "Income after capping: $15,000 to $199,961\n"
          ]
        },
        {
          "output_type": "display_data",
          "data": {
            "text/plain": [
              "<Figure size 1200x400 with 2 Axes>"
            ],
            "image/png": "[encoded data removed]"
          },
          "metadata": {}
        }
      ]
    },
    {
      "cell_type": "markdown",
      "source": [
        "Transform SpendAmount (Log Transformation)"
      ],
      "metadata": {
        "id": "ItxmeZcWX7jX"
      }
    },
    {
      "cell_type": "code",
      "source": [
        "# Remove negative and zero values first\n",
        "df['SpendAmount'] = df['SpendAmount'].clip(lower=1, upper=10000)\n",
        "\n",
        "# Create log-transformed version for analysis\n",
        "df['SpendAmount_Log'] = np.log(df['SpendAmount'])\n",
        "\n",
        "# Visualize transformation\n",
        "plt.figure(figsize=(12, 4))\n",
        "plt.subplot(1, 2, 1)\n",
        "plt.hist(df['SpendAmount'], bins=50, edgecolor='black')\n",
        "plt.title('Original Spend Amount')\n",
        "plt.xlabel('Spend ($)')\n",
        "plt.ylabel('Frequency')\n",
        "\n",
        "plt.subplot(1, 2, 2)\n",
        "plt.hist(df['SpendAmount_Log'], bins=50, edgecolor='black')\n",
        "plt.title('Log-Transformed Spend Amount')\n",
        "plt.xlabel('Log(Spend)')\n",
        "plt.ylabel('Frequency')\n",
        "plt.tight_layout()\n",
        "plt.show()\n"
      ],
      "metadata": {
        "colab": {
          "base_uri": "https://localhost:8080/",
          "height": 407
        },
        "id": "tPy62DHUX-D-",
        "outputId": "6b4d0b67-aaf9-4317-9af9-1bcc7c280732"
      },
      "execution_count": 38,
      "outputs": [
        {
          "output_type": "display_data",
          "data": {
            "text/plain": [
              "<Figure size 1200x400 with 2 Axes>"
            ],
            "image/png": "[encoded data removed]"
          },
          "metadata": {}
        }
      ]
    },
    {
      "cell_type": "markdown",
      "source": [
        "##STANDARDIZING AND NORMALIZING DATA\n",
        "##Data Standardization and Normalization\n",
        "Apply scaling techniques and standardize formats across the dataset.\n",
        "\n",
        "Min-Max Normalization (0-1 Scale)"
      ],
      "metadata": {
        "id": "QNy5yLRtX_7A"
      }
    },
    {
      "cell_type": "code",
      "source": [
        "# Normalize Age and Income to 0-1 scale\n",
        "scaler_minmax = MinMaxScaler()\n",
        "\n",
        "df['Age_Normalized'] = scaler_minmax.fit_transform(df[['Age']])\n",
        "df['Income_Normalized'] = scaler_minmax.fit_transform(df[['Income']])\n",
        "\n",
        "print(\"Normalized columns created:\")\n",
        "print(df[['Age', 'Age_Normalized', 'Income', 'Income_Normalized']].head())\n",
        "\n",
        "# Visualize\n",
        "plt.figure(figsize=(12, 4))\n",
        "plt.subplot(1, 2, 1)\n",
        "plt.hist(df['Age_Normalized'], bins=30, edgecolor='black')\n",
        "plt.title('Age (Min-Max Normalized)')\n",
        "plt.xlabel('Normalized Age')\n",
        "\n",
        "plt.subplot(1, 2, 2)\n",
        "plt.hist(df['Income_Normalized'], bins=30, edgecolor='black')\n",
        "plt.title('Income (Min-Max Normalized)')\n",
        "plt.xlabel('Normalized Income')\n",
        "plt.tight_layout()\n",
        "plt.show()\n"
      ],
      "metadata": {
        "colab": {
          "base_uri": "https://localhost:8080/",
          "height": 528
        },
        "id": "BKh5low9YJOO",
        "outputId": "98af05c6-c869-47ed-8048-42714a69e6a5"
      },
      "execution_count": 39,
      "outputs": [
        {
          "output_type": "stream",
          "name": "stdout",
          "text": [
            "Normalized columns created:\n",
            "    Age  Age_Normalized    Income  Income_Normalized\n",
            "0  43.0        0.403226  103308.0           0.477441\n",
            "1  56.0        0.612903  157337.0           0.769551\n",
            "2  39.0        0.338710  150608.0           0.733171\n",
            "3  45.0        0.435484  140174.0           0.676759\n",
            "4  53.0        0.564516  183678.0           0.911965\n"
          ]
        },
        {
          "output_type": "display_data",
          "data": {
            "text/plain": [
              "<Figure size 1200x400 with 2 Axes>"
            ],
            "image/png": "[encoded data removed]"
          },
          "metadata": {}
        }
      ]
    },
    {
      "cell_type": "markdown",
      "source": [
        "Z-Score Standardization"
      ],
      "metadata": {
        "id": "RoNxBGOWYRVt"
      }
    },
    {
      "cell_type": "code",
      "source": [
        "# Standardize SpendAmount using Z-score\n",
        "scaler_standard = StandardScaler()\n",
        "\n",
        "df['SpendAmount_Standardized'] = scaler_standard.fit_transform(df[['SpendAmount']])\n",
        "\n",
        "print(\"Standardized spend amount statistics:\")\n",
        "print(f\"Mean: {df['SpendAmount_Standardized'].mean():.4f}\")\n",
        "print(f\"Std: {df['SpendAmount_Standardized'].std():.4f}\")\n",
        "\n",
        "# Visualize\n",
        "plt.hist(df['SpendAmount_Standardized'], bins=50, edgecolor='black')\n",
        "plt.title('Spend Amount (Z-Score Standardized)')\n",
        "plt.xlabel('Standardized Spend')\n",
        "plt.ylabel('Frequency')\n",
        "plt.axvline(0, color='red', linestyle='--', label='Mean')\n",
        "plt.legend()\n",
        "plt.show()\n"
      ],
      "metadata": {
        "colab": {
          "base_uri": "https://localhost:8080/",
          "height": 524
        },
        "id": "2Zc6wLY5YSkI",
        "outputId": "65ecff53-0823-4b23-ed72-debd17a91130"
      },
      "execution_count": 40,
      "outputs": [
        {
          "output_type": "stream",
          "name": "stdout",
          "text": [
            "Standardized spend amount statistics:\n",
            "Mean: -0.0000\n",
            "Std: 1.0005\n"
          ]
        },
        {
          "output_type": "display_data",
          "data": {
            "text/plain": [
              "<Figure size 640x480 with 1 Axes>"
            ],
            "image/png": "[encoded data removed]"
          },
          "metadata": {}
        }
      ]
    }
  ]
}