{
  "nbformat": 4,
  "nbformat_minor": 0,
  "metadata": {
    "colab": {
      "provenance": [],
      "authorship_tag": "ABX9TyM1xEfHiSZJLhAe9gSRaLzO",
      "include_colab_link": true
    },
    "kernelspec": {
      "name": "python3",
      "display_name": "Python 3"
    },
    "language_info": {
      "name": "python"
    }
  },
  "cells": [
    {
      "cell_type": "markdown",
      "metadata": {
        "id": "view-in-github",
        "colab_type": "text"
      },
      "source": [
        "<a href=\"https://colab.research.google.com/github/Malleshcr7/AI-ML-Projects/blob/main/Datasetcreation.ipynb\" target=\"_parent\"><img src=\"https://colab.research.google.com/assets/colab-badge.svg\" alt=\"Open In Colab\"/></a>"
      ]
    },
    {
      "cell_type": "code",
      "execution_count": null,
      "metadata": {
        "colab": {
          "base_uri": "https://localhost:8080/"
        },
        "id": "WLvVUulJUFF9",
        "outputId": "228a5082-3203-4674-bf00-239fb18d83d1"
      },
      "outputs": [
        {
          "output_type": "stream",
          "name": "stdout",
          "text": [
            "✅ Dataset saved as daily_timetable_data.csv\n"
          ]
        }
      ],
      "source": [
        "import pandas as pd\n",
        "import random\n",
        "\n",
        "tasks = ['Study', 'Sleep', 'Exercise', 'Read', 'Eat', 'Work']\n",
        "days = ['Monday', 'Tuesday', 'Wednesday', 'Thursday', 'Friday', 'Saturday', 'Sunday']\n",
        "\n",
        "data = []\n",
        "\n",
        "for user_id in range(1, 6):  # 5 users\n",
        "    for day in days:\n",
        "        for _ in range(3):  # 3 tasks per day\n",
        "            task = random.choice(tasks)\n",
        "            duration = random.randint(30, 180)  # minutes\n",
        "            focus = round(random.uniform(0.5, 1.0), 2)\n",
        "            start_hour = random.randint(6, 22)\n",
        "            start_time = f\"{start_hour:02d}:{random.randint(0,59):02d}\"\n",
        "            recommended_hour = min(23, max(0, int(start_hour + (focus - 0.75) * 4)))\n",
        "\n",
        "            data.append({\n",
        "                \"UserID\": user_id,\n",
        "                \"Task\": task,\n",
        "                \"DayOfWeek\": day,\n",
        "                \"Duration\": duration,\n",
        "                \"FocusLevel\": focus,\n",
        "                \"StartTime\": start_time,\n",
        "                \"OutputHour\": recommended_hour\n",
        "            })\n",
        "\n",
        "df = pd.DataFrame(data)\n",
        "df.to_csv(\"daily_timetable_data.csv\", index=False)\n",
        "print(\"✅ Dataset saved as daily_timetable_data.csv\")\n"
      ]
    },
    {
      "cell_type": "code",
      "source": [
        "from google.colab import files\n",
        "files.download(\"daily_timetable_data.csv\")\n"
      ],
      "metadata": {
        "colab": {
          "base_uri": "https://localhost:8080/",
          "height": 17
        },
        "id": "R0mts23dVFjC",
        "outputId": "30f521ef-1d46-4e48-a535-b03da3a7bf83"
      },
      "execution_count": null,
      "outputs": [
        {
          "output_type": "display_data",
          "data": {
            "text/plain": [
              "<IPython.core.display.Javascript object>"
            ],
            "application/javascript": [
              "\n",
              "    async function download(id, filename, size) {\n",
              "      if (!google.colab.kernel.accessAllowed) {\n",
              "        return;\n",
              "      }\n",
              "      const div = document.createElement('div');\n",
              "      const label = document.createElement('label');\n",
              "      label.textContent = `Downloading \"${filename}\": `;\n",
              "      div.appendChild(label);\n",
              "      const progress = document.createElement('progress');\n",
              "      progress.max = size;\n",
              "      div.appendChild(progress);\n",
              "      document.body.appendChild(div);\n",
              "\n",
              "      const buffers = [];\n",
              "      let downloaded = 0;\n",
              "\n",
              "      const channel = await google.colab.kernel.comms.open(id);\n",
              "      // Send a message to notify the kernel that we're ready.\n",
              "      channel.send({})\n",
              "\n",
              "      for await (const message of channel.messages) {\n",
              "        // Send a message to notify the kernel that we're ready.\n",
              "        channel.send({})\n",
              "        if (message.buffers) {\n",
              "          for (const buffer of message.buffers) {\n",
              "            buffers.push(buffer);\n",
              "            downloaded += buffer.byteLength;\n",
              "            progress.value = downloaded;\n",
              "          }\n",
              "        }\n",
              "      }\n",
              "      const blob = new Blob(buffers, {type: 'application/binary'});\n",
              "      const a = document.createElement('a');\n",
              "      a.href = window.URL.createObjectURL(blob);\n",
              "      a.download = filename;\n",
              "      div.appendChild(a);\n",
              "      a.click();\n",
              "      div.remove();\n",
              "    }\n",
              "  "
            ]
          },
          "metadata": {}
        },
        {
          "output_type": "display_data",
          "data": {
            "text/plain": [
              "<IPython.core.display.Javascript object>"
            ],
            "application/javascript": [
              "download(\"download_44ba1fa5-b8d9-4f93-950a-df78b4f9a4cf\", \"daily_timetable_data.csv\", 3582)"
            ]
          },
          "metadata": {}
        }
      ]
    },
    {
      "cell_type": "code",
      "source": [
        "import pandas as pd\n",
        "from sklearn.model_selection import train_test_split\n",
        "from sklearn.ensemble import RandomForestRegressor\n",
        "from sklearn.metrics import mean_absolute_error\n",
        "import joblib\n",
        "\n",
        "# Load dataset\n",
        "df = pd.read_csv(\"daily_timetable_data.csv\")\n",
        "\n",
        "# Extract StartHour from StartTime\n",
        "df['StartHour'] = pd.to_datetime(df['StartTime'], format='%H:%M').dt.hour\n",
        "\n",
        "# One-hot encode categorical features\n",
        "df_encoded = pd.get_dummies(df[['Task', 'DayOfWeek']])\n",
        "\n",
        "# Final feature set\n",
        "X = pd.concat([df_encoded, df[['Duration', 'FocusLevel', 'StartHour']]], axis=1)\n",
        "y = df['OutputHour']\n",
        "\n",
        "# Train/test split\n",
        "X_train, X_test, y_train, y_test = train_test_split(X, y, test_size=0.2, random_state=42)\n",
        "\n",
        "# Train model\n",
        "model = RandomForestRegressor(n_estimators=100, random_state=42)\n",
        "model.fit(X_train, y_train)\n",
        "\n",
        "# Evaluate\n",
        "y_pred = model.predict(X_test)\n",
        "mae = mean_absolute_error(y_test, y_pred)\n",
        "print(f\"📊 Mean Absolute Error: {mae:.2f} hours\")\n"
      ],
      "metadata": {
        "colab": {
          "base_uri": "https://localhost:8080/"
        },
        "id": "oixuG09wVer8",
        "outputId": "91119d66-aed3-4db3-ff52-77dbfc68e60b"
      },
      "execution_count": null,
      "outputs": [
        {
          "output_type": "stream",
          "name": "stdout",
          "text": [
            "📊 Mean Absolute Error: 0.41 hours\n"
          ]
        }
      ]
    },
    {
      "cell_type": "code",
      "source": [
        "# Save model\n",
        "joblib.dump(model, \"timetable_model.pkl\")\n",
        "print(\"✅ Model saved as timetable_model.pkl\")\n",
        "\n",
        "# Download the model to your system\n",
        "from google.colab import files\n",
        "files.download(\"timetable_model.pkl\")\n"
      ],
      "metadata": {
        "colab": {
          "base_uri": "https://localhost:8080/",
          "height": 34
        },
        "id": "PVDIaQOgWUyn",
        "outputId": "472f37d1-f3c7-4623-ab3f-ef8679ee737b"
      },
      "execution_count": null,
      "outputs": [
        {
          "output_type": "stream",
          "name": "stdout",
          "text": [
            "✅ Model saved as timetable_model.pkl\n"
          ]
        },
        {
          "output_type": "display_data",
          "data": {
            "text/plain": [
              "<IPython.core.display.Javascript object>"
            ],
            "application/javascript": [
              "\n",
              "    async function download(id, filename, size) {\n",
              "      if (!google.colab.kernel.accessAllowed) {\n",
              "        return;\n",
              "      }\n",
              "      const div = document.createElement('div');\n",
              "      const label = document.createElement('label');\n",
              "      label.textContent = `Downloading \"${filename}\": `;\n",
              "      div.appendChild(label);\n",
              "      const progress = document.createElement('progress');\n",
              "      progress.max = size;\n",
              "      div.appendChild(progress);\n",
              "      document.body.appendChild(div);\n",
              "\n",
              "      const buffers = [];\n",
              "      let downloaded = 0;\n",
              "\n",
              "      const channel = await google.colab.kernel.comms.open(id);\n",
              "      // Send a message to notify the kernel that we're ready.\n",
              "      channel.send({})\n",
              "\n",
              "      for await (const message of channel.messages) {\n",
              "        // Send a message to notify the kernel that we're ready.\n",
              "        channel.send({})\n",
              "        if (message.buffers) {\n",
              "          for (const buffer of message.buffers) {\n",
              "            buffers.push(buffer);\n",
              "            downloaded += buffer.byteLength;\n",
              "            progress.value = downloaded;\n",
              "          }\n",
              "        }\n",
              "      }\n",
              "      const blob = new Blob(buffers, {type: 'application/binary'});\n",
              "      const a = document.createElement('a');\n",
              "      a.href = window.URL.createObjectURL(blob);\n",
              "      a.download = filename;\n",
              "      div.appendChild(a);\n",
              "      a.click();\n",
              "      div.remove();\n",
              "    }\n",
              "  "
            ]
          },
          "metadata": {}
        },
        {
          "output_type": "display_data",
          "data": {
            "text/plain": [
              "<IPython.core.display.Javascript object>"
            ],
            "application/javascript": [
              "download(\"download_1c38c62a-4229-4d8b-83ba-81600e0f96fe\", \"timetable_model.pkl\", 393889)"
            ]
          },
          "metadata": {}
        }
      ]
    },
    {
      "cell_type": "code",
      "source": [
        "def predict_best_time(task, day, duration, focus, start_hour):\n",
        "    sample = {\n",
        "        \"Task\": task,\n",
        "        \"DayOfWeek\": day,\n",
        "        \"Duration\": duration,\n",
        "        \"FocusLevel\": focus,\n",
        "        \"StartHour\": start_hour\n",
        "    }\n",
        "\n",
        "    # Columns from your training dataset\n",
        "    task_cols = ['Task_Eat', 'Task_Exercise', 'Task_Read', 'Task_Sleep', 'Task_Study', 'Task_Work']\n",
        "    day_cols = ['DayOfWeek_Friday', 'DayOfWeek_Monday', 'DayOfWeek_Saturday', 'DayOfWeek_Sunday',\n",
        "                'DayOfWeek_Thursday', 'DayOfWeek_Tuesday', 'DayOfWeek_Wednesday']\n",
        "\n",
        "    features = dict.fromkeys(task_cols + day_cols + ['Duration', 'FocusLevel', 'StartHour'], 0)\n",
        "    features[f'Task_{sample[\"Task\"]}'] = 1\n",
        "    features[f'DayOfWeek_{sample[\"DayOfWeek\"]}'] = 1\n",
        "    features['Duration'] = sample['Duration']\n",
        "    features['FocusLevel'] = sample['FocusLevel']\n",
        "    features['StartHour'] = sample['StartHour']\n",
        "\n",
        "    input_df = pd.DataFrame([features])\n",
        "    predicted_hour = model.predict(input_df)[0]\n",
        "    return round(predicted_hour)\n",
        "    print(\"📚 Study:\", predict_best_time(\"Study\", \"Monday\", 120, 0.9, 8))\n"
      ],
      "metadata": {
        "id": "ymlnEsI9Wu9i"
      },
      "execution_count": null,
      "outputs": []
    }
  ]
}