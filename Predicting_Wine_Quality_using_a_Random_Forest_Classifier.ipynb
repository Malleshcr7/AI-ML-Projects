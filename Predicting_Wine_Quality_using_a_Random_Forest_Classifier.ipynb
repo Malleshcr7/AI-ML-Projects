{
  "nbformat": 4,
  "nbformat_minor": 0,
  "metadata": {
    "colab": {
      "provenance": [],
      "authorship_tag": "ABX9TyOqekVQtZgSWk+LRf2M8ZOl",
      "include_colab_link": true
    },
    "kernelspec": {
      "name": "python3",
      "display_name": "Python 3"
    },
    "language_info": {
      "name": "python"
    }
  },
  "cells": [
    {
      "cell_type": "markdown",
      "metadata": {
        "id": "view-in-github",
        "colab_type": "text"
      },
      "source": [
        "<a href=\"https://colab.research.google.com/github/Malleshcr7/AI-ML-Projects/blob/main/Predicting_Wine_Quality_using_a_Random_Forest_Classifier.ipynb\" target=\"_parent\"><img src=\"https://colab.research.google.com/assets/colab-badge.svg\" alt=\"Open In Colab\"/></a>"
      ]
    },
    {
      "cell_type": "code",
      "execution_count": null,
      "metadata": {
        "id": "GCyCAuhAP96g"
      },
      "outputs": [],
      "source": []
    },
    {
      "cell_type": "code",
      "source": [
        "import pandas as pd\n",
        "from sklearn.model_selection import train_test_split\n",
        "from sklearn.ensemble import RandomForestClassifier\n",
        "from sklearn.metrics import classification_report\n",
        "\n",
        "# Load and prepare data\n",
        "url = 'https://archive.ics.uci.edu/ml/machine-learning-databases/wine-quality/winequality-red.csv'\n",
        "df = pd.read_csv(url, sep=';')\n",
        "\n",
        "# Create binary classification target\n",
        "df['quality_category'] = df['quality'].apply(lambda x: 1 if x >= 7 else 0)  # 1=good, 0=bad\n",
        "\n",
        "# Split data\n",
        "X = df.drop(['quality', 'quality_category'], axis=1)\n",
        "y = df['quality_category']\n",
        "X_train, X_test, y_train, y_test = train_test_split(X, y, test_size=0.2, random_state=42)\n",
        "\n",
        "# Build and evaluate first model\n",
        "rf = RandomForestClassifier(random_state=42)\n",
        "rf.fit(X_train, y_train)\n",
        "y_pred = rf.predict(X_test)\n",
        "\n",
        "print(classification_report(y_test, y_pred))\n",
        "print(f\"Training Accuracy: {rf.score(X_train, y_train):.2f}\")\n",
        "print(f\"Test Accuracy: {rf.score(X_test, y_test):.2f}\")"
      ],
      "metadata": {
        "colab": {
          "base_uri": "https://localhost:8080/"
        },
        "id": "zwajFttBj_KX",
        "outputId": "b4d60f0d-6c73-45ac-f878-f1e5992bd11e"
      },
      "execution_count": null,
      "outputs": [
        {
          "output_type": "stream",
          "name": "stdout",
          "text": [
            "              precision    recall  f1-score   support\n",
            "\n",
            "           0       0.92      0.97      0.94       273\n",
            "           1       0.73      0.51      0.60        47\n",
            "\n",
            "    accuracy                           0.90       320\n",
            "   macro avg       0.82      0.74      0.77       320\n",
            "weighted avg       0.89      0.90      0.89       320\n",
            "\n",
            "Training Accuracy: 1.00\n",
            "Test Accuracy: 0.90\n"
          ]
        }
      ]
    },
    {
      "cell_type": "code",
      "source": [
        "from sklearn.pipeline import Pipeline\n",
        "from sklearn.preprocessing import StandardScaler\n",
        "from sklearn.impute import SimpleImputer\n",
        "\n",
        "# Define pipeline\n",
        "pipeline = Pipeline([\n",
        "    ('imputer', SimpleImputer(strategy='median')),  # Handle missing values\n",
        "    ('scaler', StandardScaler()),  # Feature scaling\n",
        "    ('classifier', RandomForestClassifier(random_state=42))  # Model\n",
        "])\n",
        "\n",
        "# Train and evaluate\n",
        "pipeline.fit(X_train, y_train)\n",
        "y_pred = pipeline.predict(X_test)\n",
        "\n",
        "print(\"\\nPipeline Performance:\")\n",
        "print(classification_report(y_test, y_pred))\n",
        "print(f\"Pipeline Test Accuracy: {pipeline.score(X_test, y_test):.2f}\")"
      ],
      "metadata": {
        "colab": {
          "base_uri": "https://localhost:8080/"
        },
        "id": "a6l_KY_rkBNX",
        "outputId": "22515745-4ce3-4c11-d353-299e6cc16cf3"
      },
      "execution_count": null,
      "outputs": [
        {
          "output_type": "stream",
          "name": "stdout",
          "text": [
            "\n",
            "Pipeline Performance:\n",
            "              precision    recall  f1-score   support\n",
            "\n",
            "           0       0.92      0.97      0.94       273\n",
            "           1       0.73      0.51      0.60        47\n",
            "\n",
            "    accuracy                           0.90       320\n",
            "   macro avg       0.82      0.74      0.77       320\n",
            "weighted avg       0.89      0.90      0.89       320\n",
            "\n",
            "Pipeline Test Accuracy: 0.90\n"
          ]
        }
      ]
    },
    {
      "cell_type": "code",
      "source": [
        "from sklearn.model_selection import cross_val_score\n",
        "\n",
        "cv_scores = cross_val_score(pipeline, X, y, cv=5, scoring='accuracy')\n",
        "print(f\"\\nCross-Validation Scores: {cv_scores}\")\n",
        "print(f\"Mean CV Accuracy: {cv_scores.mean():.2f} (±{cv_scores.std():.2f})\")"
      ],
      "metadata": {
        "colab": {
          "base_uri": "https://localhost:8080/"
        },
        "id": "ejbXiQY5kEHw",
        "outputId": "5a0a81ef-8835-4076-a0f5-fcdb4143e040"
      },
      "execution_count": null,
      "outputs": [
        {
          "output_type": "stream",
          "name": "stdout",
          "text": [
            "\n",
            "Cross-Validation Scores: [0.878125   0.825      0.875      0.859375   0.87460815]\n",
            "Mean CV Accuracy: 0.86 (±0.02)\n"
          ]
        }
      ]
    },
    {
      "cell_type": "code",
      "source": [],
      "metadata": {
        "id": "rbOoxTbqkGr1"
      },
      "execution_count": null,
      "outputs": []
    },
    {
      "cell_type": "code",
      "source": [],
      "metadata": {
        "id": "rOw3koifkJh2"
      },
      "execution_count": null,
      "outputs": []
    },
    {
      "cell_type": "code",
      "source": [],
      "metadata": {
        "id": "Y2iglL8RkMLc"
      },
      "execution_count": null,
      "outputs": []
    },
    {
      "cell_type": "code",
      "source": [],
      "metadata": {
        "id": "zwIpzD-OkQxp"
      },
      "execution_count": null,
      "outputs": []
    },
    {
      "cell_type": "code",
      "source": [],
      "metadata": {
        "id": "aq5t_GAtkTqw"
      },
      "execution_count": null,
      "outputs": []
    }
  ]
}